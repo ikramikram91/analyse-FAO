{
 "cells": [
  {
   "cell_type": "markdown",
   "metadata": {},
   "source": [
    "# Import des bibliothèque "
   ]
  },
  {
   "cell_type": "code",
   "execution_count": 3585,
   "metadata": {},
   "outputs": [],
   "source": [
    "import pandas as pd\n",
    "import numpy as np\n",
    "from matplotlib import pyplot as plt"
   ]
  },
  {
   "cell_type": "markdown",
   "metadata": {},
   "source": [
    "//"
   ]
  },
  {
   "cell_type": "markdown",
   "metadata": {},
   "source": [
    "# Lecture des fichier csv"
   ]
  },
  {
   "cell_type": "code",
   "execution_count": 3586,
   "metadata": {},
   "outputs": [],
   "source": [
    "dfsounutr = pd.read_csv(\"sous_nutrition.csv\")\n",
    "dfaidealim = pd.read_csv(\"aide_alimentaire.csv\")\n",
    "dfdispoal = pd.read_csv(\"dispo_alimentaire.csv\")\n",
    "dfpop = pd.read_csv(\"population.csv\")\n",
    "\n"
   ]
  },
  {
   "cell_type": "markdown",
   "metadata": {},
   "source": [
    "//"
   ]
  },
  {
   "cell_type": "markdown",
   "metadata": {},
   "source": [
    "## Renommé les colonnes du fichier  sous_nutrition\n"
   ]
  },
  {
   "cell_type": "code",
   "execution_count": 3587,
   "metadata": {},
   "outputs": [],
   "source": [
    "dfsounutr.rename(columns= {\"Valeur\": \"Sousnutr\", \"Année\": \"Annee\"}, inplace= True)"
   ]
  },
  {
   "cell_type": "markdown",
   "metadata": {},
   "source": [
    "//"
   ]
  },
  {
   "cell_type": "markdown",
   "metadata": {},
   "source": [
    "## Changement du type de la colonne Sousnutr de str as float"
   ]
  },
  {
   "cell_type": "markdown",
   "metadata": {},
   "source": [
    "Je donne comme valeur 0 pour les pays avec une sous-nutrition = \"<0.1\""
   ]
  },
  {
   "cell_type": "code",
   "execution_count": 3588,
   "metadata": {},
   "outputs": [],
   "source": [
    "dfsounutr.loc[dfsounutr.Sousnutr == '<0.1', \"Sousnutr\"] = \"0\""
   ]
  },
  {
   "cell_type": "markdown",
   "metadata": {},
   "source": [
    "Je donne comme type  a la colonne Sousnutre un float (décimal)"
   ]
  },
  {
   "cell_type": "code",
   "execution_count": 3589,
   "metadata": {},
   "outputs": [],
   "source": [
    "dfsounutr[\"Sousnutr\"] = dfsounutr.Sousnutr.astype(float)"
   ]
  },
  {
   "cell_type": "markdown",
   "metadata": {},
   "source": [
    "//"
   ]
  },
  {
   "cell_type": "markdown",
   "metadata": {},
   "source": [
    "## Changement de la date pour la colonne Annee  "
   ]
  },
  {
   "cell_type": "markdown",
   "metadata": {},
   "source": [
    "J'attribue l'Annee qui est comprise dans un intervalle pour chaque donner. \n",
    "C'est-à-dire 2013 et comprise dans l'intervalle [2012-2014] je donne comme valeur Annee 2013  "
   ]
  },
  {
   "cell_type": "code",
   "execution_count": 3590,
   "metadata": {},
   "outputs": [],
   "source": [
    "dfsounutr.loc[dfsounutr.Annee == \"2012-2014\", \"Annee\"] = 2013\n",
    "dfsounutr.loc[dfsounutr.Annee == \"2013-2015\", \"Annee\"] = 2014\n",
    "dfsounutr.loc[dfsounutr.Annee == \"2014-2016\", \"Annee\"] = 2015\n",
    "dfsounutr.loc[dfsounutr.Annee == \"2015-2017\", \"Annee\"] = 2016\n",
    "dfsounutr.loc[dfsounutr.Annee == \"2016-2018\", \"Annee\"] = 2017\n",
    "dfsounutr.loc[dfsounutr.Annee == \"2017-2019\", \"Annee\"] = 2018"
   ]
  },
  {
   "cell_type": "markdown",
   "metadata": {},
   "source": [
    "//"
   ]
  },
  {
   "cell_type": "markdown",
   "metadata": {},
   "source": [
    "## Traitement du fichier  aide_alimentaire"
   ]
  },
  {
   "cell_type": "markdown",
   "metadata": {},
   "source": [
    "Je renomme les colonnes"
   ]
  },
  {
   "cell_type": "code",
   "execution_count": 3591,
   "metadata": {},
   "outputs": [],
   "source": [
    "dfaidealim.rename(columns= {\"Pays bénéficiaire\": \"Zone\",\"Valeur\": \"QttAideAlimentaire\", \"Année\": \"Annee\"}, inplace= True)\n",
    "# dfaidealim\n"
   ]
  },
  {
   "cell_type": "code",
   "execution_count": 3592,
   "metadata": {},
   "outputs": [
    {
     "data": {
      "text/plain": [
       "array([2013, 2014, 2015, 2016], dtype=int64)"
      ]
     },
     "execution_count": 3592,
     "metadata": {},
     "output_type": "execute_result"
    }
   ],
   "source": [
    "# Jrecup val unique d'une column\n",
    "dfaidealim.Annee.unique()\n"
   ]
  },
  {
   "cell_type": "markdown",
   "metadata": {},
   "source": [
    "//"
   ]
  },
  {
   "cell_type": "markdown",
   "metadata": {},
   "source": [
    "## Traitement du fichier Population"
   ]
  },
  {
   "cell_type": "markdown",
   "metadata": {},
   "source": [
    "Je renomme les colonnes\n"
   ]
  },
  {
   "cell_type": "code",
   "execution_count": 3593,
   "metadata": {},
   "outputs": [],
   "source": [
    "dfpop.rename(columns={\"Valeur\": \"Population\", \"Année\":\"Annee\"}, inplace=True)"
   ]
  },
  {
   "cell_type": "markdown",
   "metadata": {},
   "source": [
    "Je multiplie la colonne Population par 1000 pour récupérer les populations  en milliers d’habitants"
   ]
  },
  {
   "cell_type": "code",
   "execution_count": 3594,
   "metadata": {},
   "outputs": [],
   "source": [
    "dfpop[\"Population\"] = dfpop[\"Population\"]*1000"
   ]
  },
  {
   "cell_type": "code",
   "execution_count": 3595,
   "metadata": {},
   "outputs": [
    {
     "data": {
      "text/plain": [
       "Zone           object\n",
       "Annee           int64\n",
       "Population    float64\n",
       "dtype: object"
      ]
     },
     "execution_count": 3595,
     "metadata": {},
     "output_type": "execute_result"
    }
   ],
   "source": [
    "dfpop.dtypes"
   ]
  },
  {
   "cell_type": "markdown",
   "metadata": {},
   "source": [
    "//"
   ]
  },
  {
   "cell_type": "markdown",
   "metadata": {},
   "source": [
    "## Traitement du fichier  dispo_alimentaire\n"
   ]
  },
  {
   "cell_type": "code",
   "execution_count": 3596,
   "metadata": {},
   "outputs": [
    {
     "data": {
      "text/plain": [
       "Zone                                                              object\n",
       "Produit                                                           object\n",
       "Origine                                                           object\n",
       "Aliments pour animaux                                            float64\n",
       "Autres Utilisations                                              float64\n",
       "Disponibilité alimentaire (Kcal/personne/jour)                   float64\n",
       "Disponibilité alimentaire en quantité (kg/personne/an)           float64\n",
       "Disponibilité de matière grasse en quantité (g/personne/jour)    float64\n",
       "Disponibilité de protéines en quantité (g/personne/jour)         float64\n",
       "Disponibilité intérieure                                         float64\n",
       "Exportations - Quantité                                          float64\n",
       "Importations - Quantité                                          float64\n",
       "Nourriture                                                       float64\n",
       "Pertes                                                           float64\n",
       "Production                                                       float64\n",
       "Semences                                                         float64\n",
       "Traitement                                                       float64\n",
       "Variation de stock                                               float64\n",
       "dtype: object"
      ]
     },
     "execution_count": 3596,
     "metadata": {},
     "output_type": "execute_result"
    }
   ],
   "source": [
    "dfdispoal.dtypes"
   ]
  },
  {
   "cell_type": "markdown",
   "metadata": {},
   "source": [
    "//"
   ]
  },
  {
   "cell_type": "markdown",
   "metadata": {},
   "source": [
    "## Je récupère les données liées a l'année 2017 "
   ]
  },
  {
   "cell_type": "markdown",
   "metadata": {},
   "source": [
    "Je filtre le fichier sous_nutrition"
   ]
  },
  {
   "cell_type": "code",
   "execution_count": 3597,
   "metadata": {},
   "outputs": [
    {
     "data": {
      "text/plain": [
       "array([2013, 2014, 2015, 2016, 2017, 2018], dtype=object)"
      ]
     },
     "execution_count": 3597,
     "metadata": {},
     "output_type": "execute_result"
    }
   ],
   "source": [
    "#je vérifie que on à des données sur l'année 2017 \n",
    "dfsounutr[\"Annee\"].unique()"
   ]
  },
  {
   "cell_type": "code",
   "execution_count": 3598,
   "metadata": {},
   "outputs": [],
   "source": [
    "#j'enregistre les données liées a l'année 2017 dans une variable dfsounutre2017\n",
    "dfsounutr2017 = dfsounutr[dfsounutr[\"Annee\"] == 2017]"
   ]
  },
  {
   "cell_type": "markdown",
   "metadata": {},
   "source": [
    "Je filtre le fichier Population "
   ]
  },
  {
   "cell_type": "code",
   "execution_count": 3599,
   "metadata": {},
   "outputs": [
    {
     "data": {
      "text/plain": [
       "array([2013, 2014, 2015, 2016, 2017, 2018], dtype=int64)"
      ]
     },
     "execution_count": 3599,
     "metadata": {},
     "output_type": "execute_result"
    }
   ],
   "source": [
    "#je vérifie que on à des données sur l'année 2017 \n",
    "dfpop[\"Annee\"].unique()"
   ]
  },
  {
   "cell_type": "code",
   "execution_count": 3600,
   "metadata": {},
   "outputs": [],
   "source": [
    "#j'enregistre les données liées a l'année 2017 dans une variable dfpop2017\n",
    "dfpop2017 =  dfpop[dfpop[\"Annee\"] == 2017]"
   ]
  },
  {
   "cell_type": "markdown",
   "metadata": {},
   "source": [
    "Je filtre le fichier Aide alimentaire "
   ]
  },
  {
   "cell_type": "code",
   "execution_count": 3601,
   "metadata": {},
   "outputs": [
    {
     "data": {
      "text/plain": [
       "array([2013, 2014, 2015, 2016], dtype=int64)"
      ]
     },
     "execution_count": 3601,
     "metadata": {},
     "output_type": "execute_result"
    }
   ],
   "source": [
    "dfaidealim[\"Annee\"].unique()"
   ]
  },
  {
   "cell_type": "markdown",
   "metadata": {},
   "source": [
    "//"
   ]
  },
  {
   "cell_type": "markdown",
   "metadata": {},
   "source": [
    "//"
   ]
  },
  {
   "cell_type": "markdown",
   "metadata": {},
   "source": [
    "#  I Proportion de personnes en état de sous-nutrition "
   ]
  },
  {
   "cell_type": "markdown",
   "metadata": {},
   "source": [
    "## Jointure Interne"
   ]
  },
  {
   "cell_type": "markdown",
   "metadata": {},
   "source": [
    "je fais la jointure interne sur Annee et la Zone ainsi il me renvoie uniquement les lignes avec des caractéristiques similaires "
   ]
  },
  {
   "cell_type": "code",
   "execution_count": 3602,
   "metadata": {},
   "outputs": [],
   "source": [
    "df_inner = pd.merge(left = dfsounutr2017, right = dfpop2017 , how = \"inner\" , on = [\"Annee\",\"Zone\"])"
   ]
  },
  {
   "cell_type": "code",
   "execution_count": 3603,
   "metadata": {},
   "outputs": [
    {
     "data": {
      "text/html": [
       "<div>\n",
       "<style scoped>\n",
       "    .dataframe tbody tr th:only-of-type {\n",
       "        vertical-align: middle;\n",
       "    }\n",
       "\n",
       "    .dataframe tbody tr th {\n",
       "        vertical-align: top;\n",
       "    }\n",
       "\n",
       "    .dataframe thead th {\n",
       "        text-align: right;\n",
       "    }\n",
       "</style>\n",
       "<table border=\"1\" class=\"dataframe\">\n",
       "  <thead>\n",
       "    <tr style=\"text-align: right;\">\n",
       "      <th></th>\n",
       "      <th>Zone</th>\n",
       "      <th>Annee</th>\n",
       "      <th>Sousnutr</th>\n",
       "      <th>Population</th>\n",
       "    </tr>\n",
       "  </thead>\n",
       "  <tbody>\n",
       "    <tr>\n",
       "      <th>0</th>\n",
       "      <td>Afghanistan</td>\n",
       "      <td>2017</td>\n",
       "      <td>10.5</td>\n",
       "      <td>36296113.0</td>\n",
       "    </tr>\n",
       "    <tr>\n",
       "      <th>1</th>\n",
       "      <td>Afrique du Sud</td>\n",
       "      <td>2017</td>\n",
       "      <td>3.1</td>\n",
       "      <td>57009756.0</td>\n",
       "    </tr>\n",
       "    <tr>\n",
       "      <th>2</th>\n",
       "      <td>Albanie</td>\n",
       "      <td>2017</td>\n",
       "      <td>0.1</td>\n",
       "      <td>2884169.0</td>\n",
       "    </tr>\n",
       "    <tr>\n",
       "      <th>3</th>\n",
       "      <td>Algérie</td>\n",
       "      <td>2017</td>\n",
       "      <td>1.3</td>\n",
       "      <td>41389189.0</td>\n",
       "    </tr>\n",
       "    <tr>\n",
       "      <th>4</th>\n",
       "      <td>Allemagne</td>\n",
       "      <td>2017</td>\n",
       "      <td>NaN</td>\n",
       "      <td>82658409.0</td>\n",
       "    </tr>\n",
       "    <tr>\n",
       "      <th>...</th>\n",
       "      <td>...</td>\n",
       "      <td>...</td>\n",
       "      <td>...</td>\n",
       "      <td>...</td>\n",
       "    </tr>\n",
       "    <tr>\n",
       "      <th>198</th>\n",
       "      <td>Venezuela (République bolivarienne du)</td>\n",
       "      <td>2017</td>\n",
       "      <td>8.0</td>\n",
       "      <td>29402484.0</td>\n",
       "    </tr>\n",
       "    <tr>\n",
       "      <th>199</th>\n",
       "      <td>Viet Nam</td>\n",
       "      <td>2017</td>\n",
       "      <td>6.5</td>\n",
       "      <td>94600648.0</td>\n",
       "    </tr>\n",
       "    <tr>\n",
       "      <th>200</th>\n",
       "      <td>Yémen</td>\n",
       "      <td>2017</td>\n",
       "      <td>NaN</td>\n",
       "      <td>27834819.0</td>\n",
       "    </tr>\n",
       "    <tr>\n",
       "      <th>201</th>\n",
       "      <td>Zambie</td>\n",
       "      <td>2017</td>\n",
       "      <td>NaN</td>\n",
       "      <td>16853599.0</td>\n",
       "    </tr>\n",
       "    <tr>\n",
       "      <th>202</th>\n",
       "      <td>Zimbabwe</td>\n",
       "      <td>2017</td>\n",
       "      <td>NaN</td>\n",
       "      <td>14236595.0</td>\n",
       "    </tr>\n",
       "  </tbody>\n",
       "</table>\n",
       "<p>203 rows × 4 columns</p>\n",
       "</div>"
      ],
      "text/plain": [
       "                                       Zone Annee  Sousnutr  Population\n",
       "0                               Afghanistan  2017      10.5  36296113.0\n",
       "1                            Afrique du Sud  2017       3.1  57009756.0\n",
       "2                                   Albanie  2017       0.1   2884169.0\n",
       "3                                   Algérie  2017       1.3  41389189.0\n",
       "4                                 Allemagne  2017       NaN  82658409.0\n",
       "..                                      ...   ...       ...         ...\n",
       "198  Venezuela (République bolivarienne du)  2017       8.0  29402484.0\n",
       "199                                Viet Nam  2017       6.5  94600648.0\n",
       "200                                   Yémen  2017       NaN  27834819.0\n",
       "201                                  Zambie  2017       NaN  16853599.0\n",
       "202                                Zimbabwe  2017       NaN  14236595.0\n",
       "\n",
       "[203 rows x 4 columns]"
      ]
     },
     "execution_count": 3603,
     "metadata": {},
     "output_type": "execute_result"
    }
   ],
   "source": [
    "df_inner"
   ]
  },
  {
   "cell_type": "markdown",
   "metadata": {},
   "source": [
    "Je convertie la colonne Sousnutr en millions"
   ]
  },
  {
   "cell_type": "code",
   "execution_count": 3604,
   "metadata": {},
   "outputs": [],
   "source": [
    "df_inner[\"Sousnutr\"]= df_inner[\"Sousnutr\"]*1000000"
   ]
  },
  {
   "cell_type": "markdown",
   "metadata": {},
   "source": [
    "Calcul des Personnes en sous nutrition pour chaque pays "
   ]
  },
  {
   "cell_type": "code",
   "execution_count": 3605,
   "metadata": {},
   "outputs": [],
   "source": [
    "#j'enregistre le resultat dans une variable proportion\n",
    "proportion = round((df_inner[\"Sousnutr\"]/df_inner[\"Population\"])*100,2)"
   ]
  },
  {
   "cell_type": "markdown",
   "metadata": {},
   "source": [
    "J'insert la variable dans mon tableau df_inner "
   ]
  },
  {
   "cell_type": "code",
   "execution_count": 3606,
   "metadata": {},
   "outputs": [],
   "source": [
    "df_inner.insert(column = \"Propotionsousnutrition\", value = proportion, loc = 4)"
   ]
  },
  {
   "cell_type": "code",
   "execution_count": 3607,
   "metadata": {},
   "outputs": [
    {
     "name": "stdout",
     "output_type": "stream",
     "text": [
      "la proportion de personnes en sous nutrition pour chaque pays\n"
     ]
    },
    {
     "data": {
      "text/html": [
       "<div>\n",
       "<style scoped>\n",
       "    .dataframe tbody tr th:only-of-type {\n",
       "        vertical-align: middle;\n",
       "    }\n",
       "\n",
       "    .dataframe tbody tr th {\n",
       "        vertical-align: top;\n",
       "    }\n",
       "\n",
       "    .dataframe thead th {\n",
       "        text-align: right;\n",
       "    }\n",
       "</style>\n",
       "<table border=\"1\" class=\"dataframe\">\n",
       "  <thead>\n",
       "    <tr style=\"text-align: right;\">\n",
       "      <th></th>\n",
       "      <th>Zone</th>\n",
       "      <th>Annee</th>\n",
       "      <th>Sousnutr</th>\n",
       "      <th>Population</th>\n",
       "      <th>Propotionsousnutrition</th>\n",
       "    </tr>\n",
       "  </thead>\n",
       "  <tbody>\n",
       "    <tr>\n",
       "      <th>0</th>\n",
       "      <td>Afghanistan</td>\n",
       "      <td>2017</td>\n",
       "      <td>10500000.0</td>\n",
       "      <td>36296113.0</td>\n",
       "      <td>28.93</td>\n",
       "    </tr>\n",
       "    <tr>\n",
       "      <th>1</th>\n",
       "      <td>Afrique du Sud</td>\n",
       "      <td>2017</td>\n",
       "      <td>3100000.0</td>\n",
       "      <td>57009756.0</td>\n",
       "      <td>5.44</td>\n",
       "    </tr>\n",
       "    <tr>\n",
       "      <th>2</th>\n",
       "      <td>Albanie</td>\n",
       "      <td>2017</td>\n",
       "      <td>100000.0</td>\n",
       "      <td>2884169.0</td>\n",
       "      <td>3.47</td>\n",
       "    </tr>\n",
       "    <tr>\n",
       "      <th>3</th>\n",
       "      <td>Algérie</td>\n",
       "      <td>2017</td>\n",
       "      <td>1300000.0</td>\n",
       "      <td>41389189.0</td>\n",
       "      <td>3.14</td>\n",
       "    </tr>\n",
       "    <tr>\n",
       "      <th>4</th>\n",
       "      <td>Allemagne</td>\n",
       "      <td>2017</td>\n",
       "      <td>NaN</td>\n",
       "      <td>82658409.0</td>\n",
       "      <td>NaN</td>\n",
       "    </tr>\n",
       "    <tr>\n",
       "      <th>...</th>\n",
       "      <td>...</td>\n",
       "      <td>...</td>\n",
       "      <td>...</td>\n",
       "      <td>...</td>\n",
       "      <td>...</td>\n",
       "    </tr>\n",
       "    <tr>\n",
       "      <th>198</th>\n",
       "      <td>Venezuela (République bolivarienne du)</td>\n",
       "      <td>2017</td>\n",
       "      <td>8000000.0</td>\n",
       "      <td>29402484.0</td>\n",
       "      <td>27.21</td>\n",
       "    </tr>\n",
       "    <tr>\n",
       "      <th>199</th>\n",
       "      <td>Viet Nam</td>\n",
       "      <td>2017</td>\n",
       "      <td>6500000.0</td>\n",
       "      <td>94600648.0</td>\n",
       "      <td>6.87</td>\n",
       "    </tr>\n",
       "    <tr>\n",
       "      <th>200</th>\n",
       "      <td>Yémen</td>\n",
       "      <td>2017</td>\n",
       "      <td>NaN</td>\n",
       "      <td>27834819.0</td>\n",
       "      <td>NaN</td>\n",
       "    </tr>\n",
       "    <tr>\n",
       "      <th>201</th>\n",
       "      <td>Zambie</td>\n",
       "      <td>2017</td>\n",
       "      <td>NaN</td>\n",
       "      <td>16853599.0</td>\n",
       "      <td>NaN</td>\n",
       "    </tr>\n",
       "    <tr>\n",
       "      <th>202</th>\n",
       "      <td>Zimbabwe</td>\n",
       "      <td>2017</td>\n",
       "      <td>NaN</td>\n",
       "      <td>14236595.0</td>\n",
       "      <td>NaN</td>\n",
       "    </tr>\n",
       "  </tbody>\n",
       "</table>\n",
       "<p>203 rows × 5 columns</p>\n",
       "</div>"
      ],
      "text/plain": [
       "                                       Zone Annee    Sousnutr  Population  \\\n",
       "0                               Afghanistan  2017  10500000.0  36296113.0   \n",
       "1                            Afrique du Sud  2017   3100000.0  57009756.0   \n",
       "2                                   Albanie  2017    100000.0   2884169.0   \n",
       "3                                   Algérie  2017   1300000.0  41389189.0   \n",
       "4                                 Allemagne  2017         NaN  82658409.0   \n",
       "..                                      ...   ...         ...         ...   \n",
       "198  Venezuela (République bolivarienne du)  2017   8000000.0  29402484.0   \n",
       "199                                Viet Nam  2017   6500000.0  94600648.0   \n",
       "200                                   Yémen  2017         NaN  27834819.0   \n",
       "201                                  Zambie  2017         NaN  16853599.0   \n",
       "202                                Zimbabwe  2017         NaN  14236595.0   \n",
       "\n",
       "     Propotionsousnutrition  \n",
       "0                     28.93  \n",
       "1                      5.44  \n",
       "2                      3.47  \n",
       "3                      3.14  \n",
       "4                       NaN  \n",
       "..                      ...  \n",
       "198                   27.21  \n",
       "199                    6.87  \n",
       "200                     NaN  \n",
       "201                     NaN  \n",
       "202                     NaN  \n",
       "\n",
       "[203 rows x 5 columns]"
      ]
     },
     "execution_count": 3607,
     "metadata": {},
     "output_type": "execute_result"
    }
   ],
   "source": [
    "print(\"la proportion de personnes en sous nutrition pour chaque pays\")\n",
    "df_inner"
   ]
  },
  {
   "cell_type": "code",
   "execution_count": 3608,
   "metadata": {},
   "outputs": [
    {
     "name": "stdout",
     "output_type": "stream",
     "text": [
      "la proportion de personnes en sous nutrition  dans le monde pour l'année 2017 est de 7.1 %\n"
     ]
    }
   ],
   "source": [
    "sousnutrition_mondiale = (df_inner[\"Sousnutr\"].sum()/df_inner[\"Population\"].sum())*100\n",
    "print(\"la proportion de personnes en sous nutrition  dans le monde pour l'année 2017 est de\", round(sousnutrition_mondiale,2),\"%\")"
   ]
  },
  {
   "cell_type": "markdown",
   "metadata": {},
   "source": [
    "//"
   ]
  },
  {
   "cell_type": "markdown",
   "metadata": {},
   "source": [
    "//\n"
   ]
  },
  {
   "cell_type": "markdown",
   "metadata": {},
   "source": [
    "# II Le nombre théorique de personnes qui pourraient être nourries"
   ]
  },
  {
   "cell_type": "code",
   "execution_count": 3609,
   "metadata": {},
   "outputs": [],
   "source": [
    "#je renomme la colonne Disponibilité alimentaire (Kcal/personne/jour)\n",
    "dfdispoal.rename(columns = {\"Disponibilité alimentaire (Kcal/personne/jour)\" : \"DispoAl_encalparperparjour\"}, inplace=True)"
   ]
  },
  {
   "cell_type": "markdown",
   "metadata": {},
   "source": [
    "Jointure droite sur Zone pour dfpop2017 et dfdispoal"
   ]
  },
  {
   "cell_type": "code",
   "execution_count": 3610,
   "metadata": {},
   "outputs": [],
   "source": [
    "dfjoin = pd.merge(dfpop2017, dfdispoal, how= \"right\", on =\"Zone\" )"
   ]
  },
  {
   "cell_type": "markdown",
   "metadata": {},
   "source": [
    "Je récupère la disponibilité alimentaire en calories par jour pour chaque pays "
   ]
  },
  {
   "cell_type": "code",
   "execution_count": 3611,
   "metadata": {},
   "outputs": [],
   "source": [
    "DispoAl_encalparjour = dfjoin[\"DispoAl_encalparperparjour\"]*dfjoin[\"Population\"]\n",
    "dfjoin.insert(column = \"DispoAl_encalparjour\", value = DispoAl_encalparjour, loc = 8)"
   ]
  },
  {
   "cell_type": "markdown",
   "metadata": {},
   "source": [
    "Somme de la disponibilité alimentaire en Kcal par jours "
   ]
  },
  {
   "cell_type": "code",
   "execution_count": 3612,
   "metadata": {},
   "outputs": [
    {
     "name": "stdout",
     "output_type": "stream",
     "text": [
      "La disponibilité alimentaire mondiale en calories par jour est de: 20918984627331.0\n"
     ]
    }
   ],
   "source": [
    "print(\"La disponibilité alimentaire mondiale en calories par jour est de:\", dfjoin.DispoAl_encalparjour.sum())\n"
   ]
  },
  {
   "cell_type": "markdown",
   "metadata": {},
   "source": [
    "Calcul du nombre théorique de personnes pouvons être nourris par jour\n",
    "<!-- une personne seine a besoin environs de 2250 Kcal/jour\n",
    "        nous avons 495 442 Kcal de disponible par jour -->"
   ]
  },
  {
   "cell_type": "markdown",
   "metadata": {},
   "source": [
    "Une personne seine a besoin en moyenne de 2250 kcal par jour en moyenne \n",
    "<!-- un homme a besoin en moyenne de 2500 cal/jour -->\n",
    "<!-- une femme a besoin en moyenne de  2000 cal/jour  -->\n",
    "<!-- la moyenne des deux nous donne 2250cal/jour par personne  -->"
   ]
  },
  {
   "cell_type": "code",
   "execution_count": 3613,
   "metadata": {},
   "outputs": [
    {
     "name": "stdout",
     "output_type": "stream",
     "text": [
      "Théoriquement on peut nourrir: 9297326501.036 personnes par jour soient 123.17 % de la population\n"
     ]
    }
   ],
   "source": [
    "nbtheorique = dfjoin.DispoAl_encalparjour.sum()/2250\n",
    "print(\"Théoriquement on peut nourrir:\", nbtheorique, \"personnes par jour soient\", round(100*(nbtheorique/dfpop2017[\"Population\"].sum()),2), \"%\", \"de la population\")\n",
    "# , \" en une année on peut nourrir\",round(100*((nbtheorique*365)/dfpop2017[\"Population\"].sum()),2), \"%\", \"de la popolation\")"
   ]
  },
  {
   "cell_type": "markdown",
   "metadata": {},
   "source": [
    "//"
   ]
  },
  {
   "cell_type": "markdown",
   "metadata": {},
   "source": [
    "//"
   ]
  },
  {
   "cell_type": "markdown",
   "metadata": {},
   "source": [
    "## III Calcul du nombre théorique de personnes pouvons être nouris par jour avec la disponibilité vegetal "
   ]
  },
  {
   "cell_type": "markdown",
   "metadata": {},
   "source": [
    "Filtre la colonne Origine"
   ]
  },
  {
   "cell_type": "code",
   "execution_count": 3614,
   "metadata": {},
   "outputs": [],
   "source": [
    "dfdispoal_vegetal = dfjoin[dfjoin[\"Origine\"] == \"vegetale\"]\n"
   ]
  },
  {
   "cell_type": "markdown",
   "metadata": {},
   "source": [
    "Sommes de la disponibilité alimentaire d'origine vegetal en kcal par jour "
   ]
  },
  {
   "cell_type": "code",
   "execution_count": 3615,
   "metadata": {},
   "outputs": [
    {
     "name": "stdout",
     "output_type": "stream",
     "text": [
      "La disponibilité alimentaire mondiale d'origine végétal  en calories par jour est de: 17260764211501.0\n"
     ]
    }
   ],
   "source": [
    "print(\"La disponibilité alimentaire mondiale d'origine végétal  en calories par jour est de:\",dfdispoal_vegetal.DispoAl_encalparjour.sum())"
   ]
  },
  {
   "cell_type": "code",
   "execution_count": 3616,
   "metadata": {},
   "outputs": [
    {
     "name": "stdout",
     "output_type": "stream",
     "text": [
      "Théoriquement on peut nourrir: 7671450760.67 personnes avec la disponibilité végétal soit 101.63 % de la population mondiale\n"
     ]
    }
   ],
   "source": [
    "nbtheriquenourisenvegetal = round((dfdispoal_vegetal.DispoAl_encalparjour.sum()/2250),2)\n",
    "print(\"Théoriquement on peut nourrir:\",nbtheriquenourisenvegetal,\"personnes avec la disponibilité végétal soit\", round(100*(nbtheriquenourisenvegetal/dfpop2017[\"Population\"].sum()),2),\"%\", \"de la population mondiale\")"
   ]
  },
  {
   "cell_type": "markdown",
   "metadata": {},
   "source": [
    "//"
   ]
  },
  {
   "cell_type": "markdown",
   "metadata": {},
   "source": [
    "//"
   ]
  },
  {
   "cell_type": "markdown",
   "metadata": {},
   "source": [
    "# IV l’utilisation de la disponibilité intérieure, en particulier la part qui est attribuée à l’alimentation animale, celle qui est perdue et celle qui est concrètement utilisée pour l'alimentation humaine"
   ]
  },
  {
   "cell_type": "markdown",
   "metadata": {},
   "source": [
    "Part attribuer a l'alimentation animal"
   ]
  },
  {
   "cell_type": "code",
   "execution_count": 3617,
   "metadata": {},
   "outputs": [],
   "source": [
    "dfattribution = dfdispoal"
   ]
  },
  {
   "cell_type": "markdown",
   "metadata": {},
   "source": [
    "Je suipprime les valeurs pour lesquels on a pas de données"
   ]
  },
  {
   "cell_type": "code",
   "execution_count": 3618,
   "metadata": {},
   "outputs": [],
   "source": [
    "dfattributions = dfattribution.dropna()"
   ]
  },
  {
   "cell_type": "markdown",
   "metadata": {},
   "source": [
    "Par attribuer a l'alimentation animal de la dispo intérieur "
   ]
  },
  {
   "cell_type": "code",
   "execution_count": 3619,
   "metadata": {},
   "outputs": [],
   "source": [
    "partanimal = (dfattributions[\"Aliments pour animaux\"]/dfattributions[\"Disponibilité intérieure\"])*100\n"
   ]
  },
  {
   "cell_type": "code",
   "execution_count": 3620,
   "metadata": {},
   "outputs": [],
   "source": [
    "dfattributions.insert(column = \"Les parts atribuer a l'alimentation animal en % \", value = partanimal, loc = 10)"
   ]
  },
  {
   "cell_type": "code",
   "execution_count": 3621,
   "metadata": {},
   "outputs": [
    {
     "name": "stdout",
     "output_type": "stream",
     "text": [
      "la part mondiale attribuer a l'alimentation animal est de  13.24 %\n"
     ]
    }
   ],
   "source": [
    "print (\"la part mondiale attribuer a l'alimentation animal est de \",round(100 * (dfdispoal['Aliments pour animaux'].sum() / dfdispoal['Disponibilité intérieure'].sum()),2),\"%\")"
   ]
  },
  {
   "cell_type": "markdown",
   "metadata": {},
   "source": [
    "Les Parts perdus "
   ]
  },
  {
   "cell_type": "code",
   "execution_count": 3622,
   "metadata": {},
   "outputs": [],
   "source": [
    "partperdu = (dfattributions[\"Pertes\"]/dfattributions[\"Disponibilité intérieure\"])*100"
   ]
  },
  {
   "cell_type": "code",
   "execution_count": 3623,
   "metadata": {},
   "outputs": [],
   "source": [
    "dfattributions.insert(column = \"les parts perdus en %\", value = partperdu, loc = 11)"
   ]
  },
  {
   "cell_type": "code",
   "execution_count": 3624,
   "metadata": {},
   "outputs": [
    {
     "name": "stdout",
     "output_type": "stream",
     "text": [
      "la part mondiale perdus  est de  4.61 %\n"
     ]
    }
   ],
   "source": [
    "print (\"la part mondiale perdus  est de \",round(100 *(dfdispoal['Pertes'].sum() / dfdispoal['Disponibilité intérieure'].sum()),2),\"%\")"
   ]
  },
  {
   "cell_type": "markdown",
   "metadata": {},
   "source": [
    "Les Parts attribuer a l'alimentation humaine"
   ]
  },
  {
   "cell_type": "code",
   "execution_count": 3625,
   "metadata": {},
   "outputs": [],
   "source": [
    "parthumaine = (dfattributions[\"Nourriture\"]/dfattributions[\"Disponibilité intérieure\"])*100"
   ]
  },
  {
   "cell_type": "code",
   "execution_count": 3626,
   "metadata": {},
   "outputs": [],
   "source": [
    "dfattributions.insert(column = \"Part attribuer a l'alimentation humaine en %\", value = parthumaine, loc = 12)"
   ]
  },
  {
   "cell_type": "markdown",
   "metadata": {},
   "source": [
    "<!-- # pd.set_option('display.max_columns', None)\n",
    "# dfattributions.head() -->"
   ]
  },
  {
   "cell_type": "code",
   "execution_count": 3627,
   "metadata": {},
   "outputs": [
    {
     "name": "stdout",
     "output_type": "stream",
     "text": [
      "la part mondiale attribuer a l'alimentation humaine est de  49.51 %\n"
     ]
    }
   ],
   "source": [
    "print(\"la part mondiale attribuer a l'alimentation humaine est de \",round(100 * (dfdispoal['Nourriture'].sum() / dfdispoal['Disponibilité intérieure'].sum()),2),\"%\")"
   ]
  },
  {
   "cell_type": "markdown",
   "metadata": {},
   "source": [
    "## Utilisation des céréale "
   ]
  },
  {
   "cell_type": "code",
   "execution_count": 3628,
   "metadata": {},
   "outputs": [
    {
     "data": {
      "text/html": [
       "<div>\n",
       "<style scoped>\n",
       "    .dataframe tbody tr th:only-of-type {\n",
       "        vertical-align: middle;\n",
       "    }\n",
       "\n",
       "    .dataframe tbody tr th {\n",
       "        vertical-align: top;\n",
       "    }\n",
       "\n",
       "    .dataframe thead th {\n",
       "        text-align: right;\n",
       "    }\n",
       "</style>\n",
       "<table border=\"1\" class=\"dataframe\">\n",
       "  <thead>\n",
       "    <tr style=\"text-align: right;\">\n",
       "      <th></th>\n",
       "      <th>Zone</th>\n",
       "      <th>Produit</th>\n",
       "      <th>Origine</th>\n",
       "      <th>Aliments pour animaux</th>\n",
       "      <th>Autres Utilisations</th>\n",
       "      <th>DispoAl_encalparperparjour</th>\n",
       "      <th>Disponibilité alimentaire en quantité (kg/personne/an)</th>\n",
       "      <th>Disponibilité de matière grasse en quantité (g/personne/jour)</th>\n",
       "      <th>Disponibilité de protéines en quantité (g/personne/jour)</th>\n",
       "      <th>Disponibilité intérieure</th>\n",
       "      <th>Exportations - Quantité</th>\n",
       "      <th>Importations - Quantité</th>\n",
       "      <th>Nourriture</th>\n",
       "      <th>Pertes</th>\n",
       "      <th>Production</th>\n",
       "      <th>Semences</th>\n",
       "      <th>Traitement</th>\n",
       "      <th>Variation de stock</th>\n",
       "    </tr>\n",
       "  </thead>\n",
       "  <tbody>\n",
       "    <tr>\n",
       "      <th>7</th>\n",
       "      <td>Afghanistan</td>\n",
       "      <td>Blé</td>\n",
       "      <td>vegetale</td>\n",
       "      <td>NaN</td>\n",
       "      <td>NaN</td>\n",
       "      <td>1369.0</td>\n",
       "      <td>160.23</td>\n",
       "      <td>4.69</td>\n",
       "      <td>36.91</td>\n",
       "      <td>5992.0</td>\n",
       "      <td>NaN</td>\n",
       "      <td>1173.0</td>\n",
       "      <td>4895.0</td>\n",
       "      <td>775.0</td>\n",
       "      <td>5169.0</td>\n",
       "      <td>322.0</td>\n",
       "      <td>NaN</td>\n",
       "      <td>-350.0</td>\n",
       "    </tr>\n",
       "    <tr>\n",
       "      <th>32</th>\n",
       "      <td>Afghanistan</td>\n",
       "      <td>Maïs</td>\n",
       "      <td>vegetale</td>\n",
       "      <td>200.0</td>\n",
       "      <td>NaN</td>\n",
       "      <td>21.0</td>\n",
       "      <td>2.50</td>\n",
       "      <td>0.30</td>\n",
       "      <td>0.56</td>\n",
       "      <td>313.0</td>\n",
       "      <td>0.0</td>\n",
       "      <td>1.0</td>\n",
       "      <td>76.0</td>\n",
       "      <td>31.0</td>\n",
       "      <td>312.0</td>\n",
       "      <td>5.0</td>\n",
       "      <td>NaN</td>\n",
       "      <td>NaN</td>\n",
       "    </tr>\n",
       "    <tr>\n",
       "      <th>34</th>\n",
       "      <td>Afghanistan</td>\n",
       "      <td>Millet</td>\n",
       "      <td>vegetale</td>\n",
       "      <td>NaN</td>\n",
       "      <td>NaN</td>\n",
       "      <td>3.0</td>\n",
       "      <td>0.40</td>\n",
       "      <td>0.02</td>\n",
       "      <td>0.08</td>\n",
       "      <td>13.0</td>\n",
       "      <td>NaN</td>\n",
       "      <td>NaN</td>\n",
       "      <td>12.0</td>\n",
       "      <td>1.0</td>\n",
       "      <td>13.0</td>\n",
       "      <td>0.0</td>\n",
       "      <td>NaN</td>\n",
       "      <td>NaN</td>\n",
       "    </tr>\n",
       "    <tr>\n",
       "      <th>40</th>\n",
       "      <td>Afghanistan</td>\n",
       "      <td>Orge</td>\n",
       "      <td>vegetale</td>\n",
       "      <td>360.0</td>\n",
       "      <td>NaN</td>\n",
       "      <td>26.0</td>\n",
       "      <td>2.92</td>\n",
       "      <td>0.24</td>\n",
       "      <td>0.79</td>\n",
       "      <td>524.0</td>\n",
       "      <td>NaN</td>\n",
       "      <td>10.0</td>\n",
       "      <td>89.0</td>\n",
       "      <td>52.0</td>\n",
       "      <td>514.0</td>\n",
       "      <td>22.0</td>\n",
       "      <td>NaN</td>\n",
       "      <td>0.0</td>\n",
       "    </tr>\n",
       "    <tr>\n",
       "      <th>67</th>\n",
       "      <td>Afrique du Sud</td>\n",
       "      <td>Avoine</td>\n",
       "      <td>vegetale</td>\n",
       "      <td>8.0</td>\n",
       "      <td>NaN</td>\n",
       "      <td>5.0</td>\n",
       "      <td>0.75</td>\n",
       "      <td>0.09</td>\n",
       "      <td>0.16</td>\n",
       "      <td>49.0</td>\n",
       "      <td>4.0</td>\n",
       "      <td>25.0</td>\n",
       "      <td>40.0</td>\n",
       "      <td>1.0</td>\n",
       "      <td>28.0</td>\n",
       "      <td>1.0</td>\n",
       "      <td>NaN</td>\n",
       "      <td>0.0</td>\n",
       "    </tr>\n",
       "  </tbody>\n",
       "</table>\n",
       "</div>"
      ],
      "text/plain": [
       "              Zone Produit   Origine  Aliments pour animaux  \\\n",
       "7      Afghanistan     Blé  vegetale                    NaN   \n",
       "32     Afghanistan    Maïs  vegetale                  200.0   \n",
       "34     Afghanistan  Millet  vegetale                    NaN   \n",
       "40     Afghanistan    Orge  vegetale                  360.0   \n",
       "67  Afrique du Sud  Avoine  vegetale                    8.0   \n",
       "\n",
       "    Autres Utilisations  DispoAl_encalparperparjour  \\\n",
       "7                   NaN                      1369.0   \n",
       "32                  NaN                        21.0   \n",
       "34                  NaN                         3.0   \n",
       "40                  NaN                        26.0   \n",
       "67                  NaN                         5.0   \n",
       "\n",
       "    Disponibilité alimentaire en quantité (kg/personne/an)  \\\n",
       "7                                              160.23        \n",
       "32                                               2.50        \n",
       "34                                               0.40        \n",
       "40                                               2.92        \n",
       "67                                               0.75        \n",
       "\n",
       "    Disponibilité de matière grasse en quantité (g/personne/jour)  \\\n",
       "7                                                4.69               \n",
       "32                                               0.30               \n",
       "34                                               0.02               \n",
       "40                                               0.24               \n",
       "67                                               0.09               \n",
       "\n",
       "    Disponibilité de protéines en quantité (g/personne/jour)  \\\n",
       "7                                               36.91          \n",
       "32                                               0.56          \n",
       "34                                               0.08          \n",
       "40                                               0.79          \n",
       "67                                               0.16          \n",
       "\n",
       "    Disponibilité intérieure  Exportations - Quantité  \\\n",
       "7                     5992.0                      NaN   \n",
       "32                     313.0                      0.0   \n",
       "34                      13.0                      NaN   \n",
       "40                     524.0                      NaN   \n",
       "67                      49.0                      4.0   \n",
       "\n",
       "    Importations - Quantité  Nourriture  Pertes  Production  Semences  \\\n",
       "7                    1173.0      4895.0   775.0      5169.0     322.0   \n",
       "32                      1.0        76.0    31.0       312.0       5.0   \n",
       "34                      NaN        12.0     1.0        13.0       0.0   \n",
       "40                     10.0        89.0    52.0       514.0      22.0   \n",
       "67                     25.0        40.0     1.0        28.0       1.0   \n",
       "\n",
       "    Traitement  Variation de stock  \n",
       "7          NaN              -350.0  \n",
       "32         NaN                 NaN  \n",
       "34         NaN                 NaN  \n",
       "40         NaN                 0.0  \n",
       "67         NaN                 0.0  "
      ]
     },
     "execution_count": 3628,
     "metadata": {},
     "output_type": "execute_result"
    }
   ],
   "source": [
    "dfcereale = dfdispoal\n",
    "dfcereale = dfcereale[dfcereale['Produit'].isin(['Orge','Blé','Avoine','Seigle','Riz','Maïs','Millet','Sorgho','Céréale'])]\n",
    "dfcereale.head()"
   ]
  },
  {
   "cell_type": "code",
   "execution_count": 3629,
   "metadata": {},
   "outputs": [
    {
     "name": "stdout",
     "output_type": "stream",
     "text": [
      "La part des céréale attribuer a l'alimentation animal est de :  43.12 %\n"
     ]
    }
   ],
   "source": [
    "atributionanimal = dfcereale[\"Aliments pour animaux\"].sum()/dfcereale[\"Disponibilité intérieure\"].sum()\n",
    "print(\"La part des céréale attribuer a l'alimentation animal est de : \", round(atributionanimal*100,2),\"%\")"
   ]
  },
  {
   "cell_type": "code",
   "execution_count": 3630,
   "metadata": {},
   "outputs": [
    {
     "name": "stdout",
     "output_type": "stream",
     "text": [
      "La part des céréale attribuer a l'alimentation humaine est de :  33.95 %\n"
     ]
    }
   ],
   "source": [
    "atributionhumaine = dfcereale[\"Nourriture\"].sum()/dfcereale[\"Disponibilité intérieure\"].sum()\n",
    "print(\"La part des céréale attribuer a l'alimentation humaine est de : \", round(atributionhumaine*100,2),\"%\")"
   ]
  },
  {
   "cell_type": "code",
   "execution_count": 3631,
   "metadata": {},
   "outputs": [
    {
     "name": "stdout",
     "output_type": "stream",
     "text": [
      "les parts perdus représente :  4.15 %\n"
     ]
    }
   ],
   "source": [
    "pertes = dfcereale[\"Pertes\"].sum()/dfcereale[\"Disponibilité intérieure\"].sum()\n",
    "print(\"les parts perdus représente : \", round(pertes*100,2),\"%\")"
   ]
  },
  {
   "cell_type": "code",
   "execution_count": 3632,
   "metadata": {},
   "outputs": [
    {
     "name": "stdout",
     "output_type": "stream",
     "text": [
      "Autre utilisation :  11.29 %\n"
     ]
    }
   ],
   "source": [
    "autreutilisation = dfcereale[\"Autres Utilisations\"].sum()/dfcereale[\"Disponibilité intérieure\"].sum()\n",
    "print(\"Autre utilisation : \", round(autreutilisation*100,2),\"%\")"
   ]
  },
  {
   "cell_type": "markdown",
   "metadata": {},
   "source": [
    "## Utilisation du manioc par la Thaïlande"
   ]
  },
  {
   "cell_type": "markdown",
   "metadata": {},
   "source": [
    "je récupère l'index "
   ]
  },
  {
   "cell_type": "code",
   "execution_count": 3633,
   "metadata": {},
   "outputs": [
    {
     "data": {
      "text/html": [
       "<div>\n",
       "<style scoped>\n",
       "    .dataframe tbody tr th:only-of-type {\n",
       "        vertical-align: middle;\n",
       "    }\n",
       "\n",
       "    .dataframe tbody tr th {\n",
       "        vertical-align: top;\n",
       "    }\n",
       "\n",
       "    .dataframe thead th {\n",
       "        text-align: right;\n",
       "    }\n",
       "</style>\n",
       "<table border=\"1\" class=\"dataframe\">\n",
       "  <thead>\n",
       "    <tr style=\"text-align: right;\">\n",
       "      <th></th>\n",
       "      <th>Zone</th>\n",
       "      <th>Produit</th>\n",
       "      <th>Origine</th>\n",
       "      <th>Aliments pour animaux</th>\n",
       "      <th>Autres Utilisations</th>\n",
       "      <th>DispoAl_encalparperparjour</th>\n",
       "      <th>Disponibilité alimentaire en quantité (kg/personne/an)</th>\n",
       "      <th>Disponibilité de matière grasse en quantité (g/personne/jour)</th>\n",
       "      <th>Disponibilité de protéines en quantité (g/personne/jour)</th>\n",
       "      <th>Disponibilité intérieure</th>\n",
       "      <th>Exportations - Quantité</th>\n",
       "      <th>Importations - Quantité</th>\n",
       "      <th>Nourriture</th>\n",
       "      <th>Pertes</th>\n",
       "      <th>Production</th>\n",
       "      <th>Semences</th>\n",
       "      <th>Traitement</th>\n",
       "      <th>Variation de stock</th>\n",
       "    </tr>\n",
       "  </thead>\n",
       "  <tbody>\n",
       "    <tr>\n",
       "      <th>13809</th>\n",
       "      <td>Thaïlande</td>\n",
       "      <td>Manioc</td>\n",
       "      <td>vegetale</td>\n",
       "      <td>1800.0</td>\n",
       "      <td>2081.0</td>\n",
       "      <td>40.0</td>\n",
       "      <td>13.0</td>\n",
       "      <td>0.05</td>\n",
       "      <td>0.14</td>\n",
       "      <td>6264.0</td>\n",
       "      <td>25214.0</td>\n",
       "      <td>1250.0</td>\n",
       "      <td>871.0</td>\n",
       "      <td>1511.0</td>\n",
       "      <td>30228.0</td>\n",
       "      <td>NaN</td>\n",
       "      <td>0.0</td>\n",
       "      <td>0.0</td>\n",
       "    </tr>\n",
       "  </tbody>\n",
       "</table>\n",
       "</div>"
      ],
      "text/plain": [
       "            Zone Produit   Origine  Aliments pour animaux  \\\n",
       "13809  Thaïlande  Manioc  vegetale                 1800.0   \n",
       "\n",
       "       Autres Utilisations  DispoAl_encalparperparjour  \\\n",
       "13809               2081.0                        40.0   \n",
       "\n",
       "       Disponibilité alimentaire en quantité (kg/personne/an)  \\\n",
       "13809                                               13.0        \n",
       "\n",
       "       Disponibilité de matière grasse en quantité (g/personne/jour)  \\\n",
       "13809                                               0.05               \n",
       "\n",
       "       Disponibilité de protéines en quantité (g/personne/jour)  \\\n",
       "13809                                               0.14          \n",
       "\n",
       "       Disponibilité intérieure  Exportations - Quantité  \\\n",
       "13809                    6264.0                  25214.0   \n",
       "\n",
       "       Importations - Quantité  Nourriture  Pertes  Production  Semences  \\\n",
       "13809                   1250.0       871.0  1511.0     30228.0       NaN   \n",
       "\n",
       "       Traitement  Variation de stock  \n",
       "13809         0.0                 0.0  "
      ]
     },
     "execution_count": 3633,
     "metadata": {},
     "output_type": "execute_result"
    }
   ],
   "source": [
    "dfindex = dfdispoal[dfdispoal[\"Zone\"]==\"Thaïlande\"]\n",
    "dfindex = dfindex[dfindex[\"Produit\"]==\"Manioc\"]\n",
    "dfindex"
   ]
  },
  {
   "cell_type": "markdown",
   "metadata": {},
   "source": [
    "J'enregistre les données dans une nouvelle variable "
   ]
  },
  {
   "cell_type": "code",
   "execution_count": 3634,
   "metadata": {},
   "outputs": [
    {
     "name": "stdout",
     "output_type": "stream",
     "text": [
      "83.41 % du manioc est exporté et 20.72 % et utilisé\n"
     ]
    }
   ],
   "source": [
    "utilisationmanioc = dfindex.iloc[0]\n",
    "# je récupère les donner qui m'interesse\n",
    "print(round(((utilisationmanioc[\"Exportations - Quantité\"]/utilisationmanioc[\"Production\"])*100),2),\"%\", \n",
    "\"du manioc est exporté\", \"et\",round(((utilisationmanioc[\"Disponibilité intérieure\"]/utilisationmanioc[\"Production\"])*100),2),\"%\", \"et utilisé\" )"
   ]
  },
  {
   "cell_type": "code",
   "execution_count": 3635,
   "metadata": {},
   "outputs": [
    {
     "data": {
      "text/plain": [
       "Zone                                                             Thaïlande\n",
       "Produit                                                             Manioc\n",
       "Origine                                                           vegetale\n",
       "Aliments pour animaux                                               1800.0\n",
       "Autres Utilisations                                                 2081.0\n",
       "DispoAl_encalparperparjour                                            40.0\n",
       "Disponibilité alimentaire en quantité (kg/personne/an)                13.0\n",
       "Disponibilité de matière grasse en quantité (g/personne/jour)         0.05\n",
       "Disponibilité de protéines en quantité (g/personne/jour)              0.14\n",
       "Disponibilité intérieure                                            6264.0\n",
       "Exportations - Quantité                                            25214.0\n",
       "Importations - Quantité                                             1250.0\n",
       "Nourriture                                                           871.0\n",
       "Pertes                                                              1511.0\n",
       "Production                                                         30228.0\n",
       "Semences                                                               NaN\n",
       "Traitement                                                             0.0\n",
       "Variation de stock                                                     0.0\n",
       "Name: 13809, dtype: object"
      ]
     },
     "execution_count": 3635,
     "metadata": {},
     "output_type": "execute_result"
    }
   ],
   "source": [
    "utilisationmanioc"
   ]
  },
  {
   "cell_type": "markdown",
   "metadata": {},
   "source": [
    "Je filtre mon fichier sous_nutrition pour ne récupérer que les données de 2013 "
   ]
  },
  {
   "cell_type": "code",
   "execution_count": 3636,
   "metadata": {},
   "outputs": [],
   "source": [
    "dfsounutr2013 = dfsounutr[dfsounutr[\"Annee\"] == 2013] \n",
    "dfpop2013 = dfpop[dfpop[\"Annee\"] == 2013]"
   ]
  },
  {
   "cell_type": "markdown",
   "metadata": {},
   "source": [
    "Je fais une jointure droite pour voir l'utilisation du manioc par la Thaïlande aux\n",
    "égards de la proportion de personnes en sous-nutrition"
   ]
  },
  {
   "cell_type": "code",
   "execution_count": 3637,
   "metadata": {},
   "outputs": [],
   "source": [
    "dfjoinmaniocsounutr = pd.merge(dfsounutr2013,dfindex,  on = \"Zone\", how=\"right\")\n",
    "dfjoinmaniocsounutr = pd.merge(dfpop2013,dfjoinmaniocsounutr, on=\"Zone\", how=\"right\")"
   ]
  },
  {
   "cell_type": "code",
   "execution_count": 3638,
   "metadata": {},
   "outputs": [],
   "source": [
    "#je met les données \"Sousnutr\" en millier \n",
    "dfjoinmaniocsounutr[\"Sousnutr\"] = dfjoinmaniocsounutr[\"Sousnutr\"]*1000000"
   ]
  },
  {
   "cell_type": "markdown",
   "metadata": {},
   "source": [
    "Quelle est l'utilisation de la disponibilité intérieure du manioc "
   ]
  },
  {
   "cell_type": "code",
   "execution_count": 3639,
   "metadata": {},
   "outputs": [
    {
     "name": "stdout",
     "output_type": "stream",
     "text": [
      "13.9 % du manioc est utilisé pour l'alimentation humaine\n"
     ]
    }
   ],
   "source": [
    "alimhumaine = 100*utilisationmanioc[\"Nourriture\"]/utilisationmanioc[\"Disponibilité intérieure\"]\n",
    "print(round(alimhumaine,2),\"%\", \"du manioc est utilisé pour l'alimentation humaine\")"
   ]
  },
  {
   "cell_type": "code",
   "execution_count": 3640,
   "metadata": {},
   "outputs": [
    {
     "name": "stdout",
     "output_type": "stream",
     "text": [
      "28.74 % du manioc est utilisé pour l'alimentation animal\n"
     ]
    }
   ],
   "source": [
    "alimanimal = 100*utilisationmanioc[\"Aliments pour animaux\"]/utilisationmanioc[\"Disponibilité intérieure\"]\n",
    "print(round(alimanimal,2),\"%\", \"du manioc est utilisé pour l'alimentation animal\")"
   ]
  },
  {
   "cell_type": "markdown",
   "metadata": {},
   "source": [
    "Personnes en sous nutrition en Thaïlande "
   ]
  },
  {
   "cell_type": "code",
   "execution_count": 3641,
   "metadata": {},
   "outputs": [
    {
     "name": "stdout",
     "output_type": "stream",
     "text": [
      "En Thaïlande 9.1 % de la population est en sous nutrition\n"
     ]
    }
   ],
   "source": [
    "sousnutrThailande = dfjoinmaniocsounutr.iloc[0]\n",
    "print(\"En Thaïlande\",round(100*(sousnutrThailande[\"Sousnutr\"]/sousnutrThailande[\"Population\"]),2),\"%\", \"de la population est en sous nutrition\")"
   ]
  },
  {
   "cell_type": "markdown",
   "metadata": {},
   "source": [
    "Disponibiliter en calorie par jour"
   ]
  },
  {
   "cell_type": "code",
   "execution_count": 3642,
   "metadata": {},
   "outputs": [
    {
     "name": "stdout",
     "output_type": "stream",
     "text": [
      "Nous avons  2725780720.0 de calorie disponible par jour\n"
     ]
    }
   ],
   "source": [
    "dispocaljourThailande = sousnutrThailande[\"Population\"]*sousnutrThailande[\"DispoAl_encalparperparjour\"]\n",
    "print(\"Nous avons \",dispocaljourThailande,\"de calorie disponible par jour\")"
   ]
  },
  {
   "cell_type": "markdown",
   "metadata": {},
   "source": [
    "Personnes pouvons êtres nourris avec la disponibilité en cal par jour du manioc"
   ]
  },
  {
   "cell_type": "code",
   "execution_count": 3643,
   "metadata": {},
   "outputs": [
    {
     "name": "stdout",
     "output_type": "stream",
     "text": [
      "Avec les calories disponibles on peut nourrir 1211458.1 personnes soit 1.78 % de la population\n"
     ]
    }
   ],
   "source": [
    "print(\"Avec les calories disponibles on peut nourrir\",round((dispocaljourThailande/2250),2), \"personnes\", \"soit\",round(100*((dispocaljourThailande/2250)/sousnutrThailande[\"Population\"]),2),\"%\", \"de la population\" )\n"
   ]
  },
  {
   "cell_type": "markdown",
   "metadata": {},
   "source": [
    "//"
   ]
  },
  {
   "cell_type": "markdown",
   "metadata": {},
   "source": [
    "//"
   ]
  },
  {
   "cell_type": "markdown",
   "metadata": {},
   "source": [
    "//"
   ]
  },
  {
   "cell_type": "markdown",
   "metadata": {},
   "source": [
    "# V Pays pour lesquels la proportion de personnes sous-alimentées est la plus forte en 2017"
   ]
  },
  {
   "cell_type": "markdown",
   "metadata": {},
   "source": [
    "suppression des valeur NaN"
   ]
  },
  {
   "cell_type": "code",
   "execution_count": 3644,
   "metadata": {},
   "outputs": [],
   "source": [
    "dfsousnutrion2017 = df_inner[~pd.isnull(df_inner.Sousnutr)]"
   ]
  },
  {
   "cell_type": "markdown",
   "metadata": {},
   "source": [
    "Organisation des données par ordre décroissans "
   ]
  },
  {
   "cell_type": "code",
   "execution_count": 3645,
   "metadata": {},
   "outputs": [
    {
     "data": {
      "text/html": [
       "<div>\n",
       "<style scoped>\n",
       "    .dataframe tbody tr th:only-of-type {\n",
       "        vertical-align: middle;\n",
       "    }\n",
       "\n",
       "    .dataframe tbody tr th {\n",
       "        vertical-align: top;\n",
       "    }\n",
       "\n",
       "    .dataframe thead th {\n",
       "        text-align: right;\n",
       "    }\n",
       "</style>\n",
       "<table border=\"1\" class=\"dataframe\">\n",
       "  <thead>\n",
       "    <tr style=\"text-align: right;\">\n",
       "      <th></th>\n",
       "      <th>Zone</th>\n",
       "      <th>Annee</th>\n",
       "      <th>Sousnutr</th>\n",
       "      <th>Population</th>\n",
       "      <th>Propotionsousnutrition</th>\n",
       "    </tr>\n",
       "  </thead>\n",
       "  <tbody>\n",
       "    <tr>\n",
       "      <th>78</th>\n",
       "      <td>Haïti</td>\n",
       "      <td>2017</td>\n",
       "      <td>5300000.0</td>\n",
       "      <td>10982366.0</td>\n",
       "      <td>48.26</td>\n",
       "    </tr>\n",
       "    <tr>\n",
       "      <th>157</th>\n",
       "      <td>République populaire démocratique de Corée</td>\n",
       "      <td>2017</td>\n",
       "      <td>12000000.0</td>\n",
       "      <td>25429825.0</td>\n",
       "      <td>47.19</td>\n",
       "    </tr>\n",
       "    <tr>\n",
       "      <th>108</th>\n",
       "      <td>Madagascar</td>\n",
       "      <td>2017</td>\n",
       "      <td>10500000.0</td>\n",
       "      <td>25570512.0</td>\n",
       "      <td>41.06</td>\n",
       "    </tr>\n",
       "    <tr>\n",
       "      <th>103</th>\n",
       "      <td>Libéria</td>\n",
       "      <td>2017</td>\n",
       "      <td>1800000.0</td>\n",
       "      <td>4702226.0</td>\n",
       "      <td>38.28</td>\n",
       "    </tr>\n",
       "    <tr>\n",
       "      <th>100</th>\n",
       "      <td>Lesotho</td>\n",
       "      <td>2017</td>\n",
       "      <td>800000.0</td>\n",
       "      <td>2091534.0</td>\n",
       "      <td>38.25</td>\n",
       "    </tr>\n",
       "    <tr>\n",
       "      <th>...</th>\n",
       "      <td>...</td>\n",
       "      <td>...</td>\n",
       "      <td>...</td>\n",
       "      <td>...</td>\n",
       "      <td>...</td>\n",
       "    </tr>\n",
       "    <tr>\n",
       "      <th>63</th>\n",
       "      <td>Fidji</td>\n",
       "      <td>2017</td>\n",
       "      <td>0.0</td>\n",
       "      <td>877459.0</td>\n",
       "      <td>0.00</td>\n",
       "    </tr>\n",
       "    <tr>\n",
       "      <th>77</th>\n",
       "      <td>Guyana</td>\n",
       "      <td>2017</td>\n",
       "      <td>0.0</td>\n",
       "      <td>775222.0</td>\n",
       "      <td>0.00</td>\n",
       "    </tr>\n",
       "    <tr>\n",
       "      <th>83</th>\n",
       "      <td>Îles Salomon</td>\n",
       "      <td>2017</td>\n",
       "      <td>0.0</td>\n",
       "      <td>636039.0</td>\n",
       "      <td>0.00</td>\n",
       "    </tr>\n",
       "    <tr>\n",
       "      <th>115</th>\n",
       "      <td>Maurice</td>\n",
       "      <td>2017</td>\n",
       "      <td>0.0</td>\n",
       "      <td>1264499.0</td>\n",
       "      <td>0.00</td>\n",
       "    </tr>\n",
       "    <tr>\n",
       "      <th>98</th>\n",
       "      <td>Kiribati</td>\n",
       "      <td>2017</td>\n",
       "      <td>0.0</td>\n",
       "      <td>114158.0</td>\n",
       "      <td>0.00</td>\n",
       "    </tr>\n",
       "  </tbody>\n",
       "</table>\n",
       "<p>104 rows × 5 columns</p>\n",
       "</div>"
      ],
      "text/plain": [
       "                                           Zone Annee    Sousnutr  Population  \\\n",
       "78                                        Haïti  2017   5300000.0  10982366.0   \n",
       "157  République populaire démocratique de Corée  2017  12000000.0  25429825.0   \n",
       "108                                  Madagascar  2017  10500000.0  25570512.0   \n",
       "103                                     Libéria  2017   1800000.0   4702226.0   \n",
       "100                                     Lesotho  2017    800000.0   2091534.0   \n",
       "..                                          ...   ...         ...         ...   \n",
       "63                                        Fidji  2017         0.0    877459.0   \n",
       "77                                       Guyana  2017         0.0    775222.0   \n",
       "83                                 Îles Salomon  2017         0.0    636039.0   \n",
       "115                                     Maurice  2017         0.0   1264499.0   \n",
       "98                                     Kiribati  2017         0.0    114158.0   \n",
       "\n",
       "     Propotionsousnutrition  \n",
       "78                    48.26  \n",
       "157                   47.19  \n",
       "108                   41.06  \n",
       "103                   38.28  \n",
       "100                   38.25  \n",
       "..                      ...  \n",
       "63                     0.00  \n",
       "77                     0.00  \n",
       "83                     0.00  \n",
       "115                    0.00  \n",
       "98                     0.00  \n",
       "\n",
       "[104 rows x 5 columns]"
      ]
     },
     "execution_count": 3645,
     "metadata": {},
     "output_type": "execute_result"
    }
   ],
   "source": [
    "dfsousnutrion2017 = dfsousnutrion2017.sort_values(by ='Propotionsousnutrition', ascending=False)\n",
    "dfsousnutrion2017"
   ]
  },
  {
   "cell_type": "markdown",
   "metadata": {},
   "source": [
    "Les 20 premier pays pour lesquels les personnes en sous nutrition est la plus forte en 2017"
   ]
  },
  {
   "cell_type": "code",
   "execution_count": 3646,
   "metadata": {},
   "outputs": [
    {
     "data": {
      "text/html": [
       "<div>\n",
       "<style scoped>\n",
       "    .dataframe tbody tr th:only-of-type {\n",
       "        vertical-align: middle;\n",
       "    }\n",
       "\n",
       "    .dataframe tbody tr th {\n",
       "        vertical-align: top;\n",
       "    }\n",
       "\n",
       "    .dataframe thead th {\n",
       "        text-align: right;\n",
       "    }\n",
       "</style>\n",
       "<table border=\"1\" class=\"dataframe\">\n",
       "  <thead>\n",
       "    <tr style=\"text-align: right;\">\n",
       "      <th></th>\n",
       "      <th>Zone</th>\n",
       "      <th>Annee</th>\n",
       "      <th>Sousnutr</th>\n",
       "      <th>Population</th>\n",
       "      <th>Propotionsousnutrition</th>\n",
       "    </tr>\n",
       "  </thead>\n",
       "  <tbody>\n",
       "    <tr>\n",
       "      <th>78</th>\n",
       "      <td>Haïti</td>\n",
       "      <td>2017</td>\n",
       "      <td>5300000.0</td>\n",
       "      <td>10982366.0</td>\n",
       "      <td>48.26</td>\n",
       "    </tr>\n",
       "    <tr>\n",
       "      <th>157</th>\n",
       "      <td>République populaire démocratique de Corée</td>\n",
       "      <td>2017</td>\n",
       "      <td>12000000.0</td>\n",
       "      <td>25429825.0</td>\n",
       "      <td>47.19</td>\n",
       "    </tr>\n",
       "    <tr>\n",
       "      <th>108</th>\n",
       "      <td>Madagascar</td>\n",
       "      <td>2017</td>\n",
       "      <td>10500000.0</td>\n",
       "      <td>25570512.0</td>\n",
       "      <td>41.06</td>\n",
       "    </tr>\n",
       "    <tr>\n",
       "      <th>103</th>\n",
       "      <td>Libéria</td>\n",
       "      <td>2017</td>\n",
       "      <td>1800000.0</td>\n",
       "      <td>4702226.0</td>\n",
       "      <td>38.28</td>\n",
       "    </tr>\n",
       "    <tr>\n",
       "      <th>100</th>\n",
       "      <td>Lesotho</td>\n",
       "      <td>2017</td>\n",
       "      <td>800000.0</td>\n",
       "      <td>2091534.0</td>\n",
       "      <td>38.25</td>\n",
       "    </tr>\n",
       "    <tr>\n",
       "      <th>183</th>\n",
       "      <td>Tchad</td>\n",
       "      <td>2017</td>\n",
       "      <td>5700000.0</td>\n",
       "      <td>15016753.0</td>\n",
       "      <td>37.96</td>\n",
       "    </tr>\n",
       "    <tr>\n",
       "      <th>161</th>\n",
       "      <td>Rwanda</td>\n",
       "      <td>2017</td>\n",
       "      <td>4200000.0</td>\n",
       "      <td>11980961.0</td>\n",
       "      <td>35.06</td>\n",
       "    </tr>\n",
       "    <tr>\n",
       "      <th>121</th>\n",
       "      <td>Mozambique</td>\n",
       "      <td>2017</td>\n",
       "      <td>9400000.0</td>\n",
       "      <td>28649018.0</td>\n",
       "      <td>32.81</td>\n",
       "    </tr>\n",
       "    <tr>\n",
       "      <th>186</th>\n",
       "      <td>Timor-Leste</td>\n",
       "      <td>2017</td>\n",
       "      <td>400000.0</td>\n",
       "      <td>1243258.0</td>\n",
       "      <td>32.17</td>\n",
       "    </tr>\n",
       "    <tr>\n",
       "      <th>0</th>\n",
       "      <td>Afghanistan</td>\n",
       "      <td>2017</td>\n",
       "      <td>10500000.0</td>\n",
       "      <td>36296113.0</td>\n",
       "      <td>28.93</td>\n",
       "    </tr>\n",
       "    <tr>\n",
       "      <th>44</th>\n",
       "      <td>Congo</td>\n",
       "      <td>2017</td>\n",
       "      <td>1400000.0</td>\n",
       "      <td>5110695.0</td>\n",
       "      <td>27.39</td>\n",
       "    </tr>\n",
       "    <tr>\n",
       "      <th>198</th>\n",
       "      <td>Venezuela (République bolivarienne du)</td>\n",
       "      <td>2017</td>\n",
       "      <td>8000000.0</td>\n",
       "      <td>29402484.0</td>\n",
       "      <td>27.21</td>\n",
       "    </tr>\n",
       "    <tr>\n",
       "      <th>171</th>\n",
       "      <td>Sierra Leone</td>\n",
       "      <td>2017</td>\n",
       "      <td>2000000.0</td>\n",
       "      <td>7488423.0</td>\n",
       "      <td>26.71</td>\n",
       "    </tr>\n",
       "    <tr>\n",
       "      <th>158</th>\n",
       "      <td>République-Unie de Tanzanie</td>\n",
       "      <td>2017</td>\n",
       "      <td>13400000.0</td>\n",
       "      <td>54660339.0</td>\n",
       "      <td>24.52</td>\n",
       "    </tr>\n",
       "    <tr>\n",
       "      <th>87</th>\n",
       "      <td>Iraq</td>\n",
       "      <td>2017</td>\n",
       "      <td>9000000.0</td>\n",
       "      <td>37552781.0</td>\n",
       "      <td>23.97</td>\n",
       "    </tr>\n",
       "    <tr>\n",
       "      <th>96</th>\n",
       "      <td>Kenya</td>\n",
       "      <td>2017</td>\n",
       "      <td>11900000.0</td>\n",
       "      <td>50221142.0</td>\n",
       "      <td>23.70</td>\n",
       "    </tr>\n",
       "    <tr>\n",
       "      <th>26</th>\n",
       "      <td>Botswana</td>\n",
       "      <td>2017</td>\n",
       "      <td>500000.0</td>\n",
       "      <td>2205080.0</td>\n",
       "      <td>22.67</td>\n",
       "    </tr>\n",
       "    <tr>\n",
       "      <th>187</th>\n",
       "      <td>Togo</td>\n",
       "      <td>2017</td>\n",
       "      <td>1600000.0</td>\n",
       "      <td>7698474.0</td>\n",
       "      <td>20.78</td>\n",
       "    </tr>\n",
       "    <tr>\n",
       "      <th>46</th>\n",
       "      <td>Côte d'Ivoire</td>\n",
       "      <td>2017</td>\n",
       "      <td>4900000.0</td>\n",
       "      <td>24437470.0</td>\n",
       "      <td>20.05</td>\n",
       "    </tr>\n",
       "    <tr>\n",
       "      <th>61</th>\n",
       "      <td>Éthiopie</td>\n",
       "      <td>2017</td>\n",
       "      <td>21100000.0</td>\n",
       "      <td>106399924.0</td>\n",
       "      <td>19.83</td>\n",
       "    </tr>\n",
       "  </tbody>\n",
       "</table>\n",
       "</div>"
      ],
      "text/plain": [
       "                                           Zone Annee    Sousnutr  \\\n",
       "78                                        Haïti  2017   5300000.0   \n",
       "157  République populaire démocratique de Corée  2017  12000000.0   \n",
       "108                                  Madagascar  2017  10500000.0   \n",
       "103                                     Libéria  2017   1800000.0   \n",
       "100                                     Lesotho  2017    800000.0   \n",
       "183                                       Tchad  2017   5700000.0   \n",
       "161                                      Rwanda  2017   4200000.0   \n",
       "121                                  Mozambique  2017   9400000.0   \n",
       "186                                 Timor-Leste  2017    400000.0   \n",
       "0                                   Afghanistan  2017  10500000.0   \n",
       "44                                        Congo  2017   1400000.0   \n",
       "198      Venezuela (République bolivarienne du)  2017   8000000.0   \n",
       "171                                Sierra Leone  2017   2000000.0   \n",
       "158                 République-Unie de Tanzanie  2017  13400000.0   \n",
       "87                                         Iraq  2017   9000000.0   \n",
       "96                                        Kenya  2017  11900000.0   \n",
       "26                                     Botswana  2017    500000.0   \n",
       "187                                        Togo  2017   1600000.0   \n",
       "46                                Côte d'Ivoire  2017   4900000.0   \n",
       "61                                     Éthiopie  2017  21100000.0   \n",
       "\n",
       "      Population  Propotionsousnutrition  \n",
       "78    10982366.0                   48.26  \n",
       "157   25429825.0                   47.19  \n",
       "108   25570512.0                   41.06  \n",
       "103    4702226.0                   38.28  \n",
       "100    2091534.0                   38.25  \n",
       "183   15016753.0                   37.96  \n",
       "161   11980961.0                   35.06  \n",
       "121   28649018.0                   32.81  \n",
       "186    1243258.0                   32.17  \n",
       "0     36296113.0                   28.93  \n",
       "44     5110695.0                   27.39  \n",
       "198   29402484.0                   27.21  \n",
       "171    7488423.0                   26.71  \n",
       "158   54660339.0                   24.52  \n",
       "87    37552781.0                   23.97  \n",
       "96    50221142.0                   23.70  \n",
       "26     2205080.0                   22.67  \n",
       "187    7698474.0                   20.78  \n",
       "46    24437470.0                   20.05  \n",
       "61   106399924.0                   19.83  "
      ]
     },
     "execution_count": 3646,
     "metadata": {},
     "output_type": "execute_result"
    }
   ],
   "source": [
    "dfpaysousnutreestlaplusfort = dfsousnutrion2017.head(20)\n",
    "dfautre = dfsousnutrion2017\n",
    "dfpaysousnutreestlaplusfort\n"
   ]
  },
  {
   "cell_type": "markdown",
   "metadata": {},
   "source": [
    "j'enregistre les autre donner dans une variable autre "
   ]
  },
  {
   "cell_type": "code",
   "execution_count": 3647,
   "metadata": {},
   "outputs": [
    {
     "data": {
      "text/plain": [
       "569.85"
      ]
     },
     "execution_count": 3647,
     "metadata": {},
     "output_type": "execute_result"
    }
   ],
   "source": [
    "dfautre = dfautre[dfautre['Propotionsousnutrition']<19.83]\n",
    "dfautre['Propotionsousnutrition'].sum()"
   ]
  },
  {
   "cell_type": "markdown",
   "metadata": {},
   "source": [
    "je crée une variable autres est lui attribut des données  "
   ]
  },
  {
   "cell_type": "code",
   "execution_count": 3648,
   "metadata": {},
   "outputs": [],
   "source": [
    "autres = {\"Zone\":\"Autre\", \"Propotionsousnutrition\": dfautre[\"Propotionsousnutrition\"].sum(),}"
   ]
  },
  {
   "cell_type": "code",
   "execution_count": 3649,
   "metadata": {},
   "outputs": [
    {
     "name": "stdout",
     "output_type": "stream",
     "text": [
      "{'Zone': 'Autre', 'Propotionsousnutrition': 569.85}\n"
     ]
    }
   ],
   "source": [
    "print(autres)"
   ]
  },
  {
   "cell_type": "code",
   "execution_count": 3650,
   "metadata": {},
   "outputs": [
    {
     "data": {
      "text/html": [
       "<div>\n",
       "<style scoped>\n",
       "    .dataframe tbody tr th:only-of-type {\n",
       "        vertical-align: middle;\n",
       "    }\n",
       "\n",
       "    .dataframe tbody tr th {\n",
       "        vertical-align: top;\n",
       "    }\n",
       "\n",
       "    .dataframe thead th {\n",
       "        text-align: right;\n",
       "    }\n",
       "</style>\n",
       "<table border=\"1\" class=\"dataframe\">\n",
       "  <thead>\n",
       "    <tr style=\"text-align: right;\">\n",
       "      <th></th>\n",
       "      <th>Zone</th>\n",
       "      <th>Propotionsousnutrition</th>\n",
       "    </tr>\n",
       "  </thead>\n",
       "  <tbody>\n",
       "    <tr>\n",
       "      <th>78</th>\n",
       "      <td>Haïti</td>\n",
       "      <td>48.26</td>\n",
       "    </tr>\n",
       "    <tr>\n",
       "      <th>157</th>\n",
       "      <td>République populaire démocratique de Corée</td>\n",
       "      <td>47.19</td>\n",
       "    </tr>\n",
       "    <tr>\n",
       "      <th>108</th>\n",
       "      <td>Madagascar</td>\n",
       "      <td>41.06</td>\n",
       "    </tr>\n",
       "    <tr>\n",
       "      <th>103</th>\n",
       "      <td>Libéria</td>\n",
       "      <td>38.28</td>\n",
       "    </tr>\n",
       "    <tr>\n",
       "      <th>100</th>\n",
       "      <td>Lesotho</td>\n",
       "      <td>38.25</td>\n",
       "    </tr>\n",
       "    <tr>\n",
       "      <th>183</th>\n",
       "      <td>Tchad</td>\n",
       "      <td>37.96</td>\n",
       "    </tr>\n",
       "    <tr>\n",
       "      <th>161</th>\n",
       "      <td>Rwanda</td>\n",
       "      <td>35.06</td>\n",
       "    </tr>\n",
       "    <tr>\n",
       "      <th>121</th>\n",
       "      <td>Mozambique</td>\n",
       "      <td>32.81</td>\n",
       "    </tr>\n",
       "    <tr>\n",
       "      <th>186</th>\n",
       "      <td>Timor-Leste</td>\n",
       "      <td>32.17</td>\n",
       "    </tr>\n",
       "    <tr>\n",
       "      <th>0</th>\n",
       "      <td>Afghanistan</td>\n",
       "      <td>28.93</td>\n",
       "    </tr>\n",
       "    <tr>\n",
       "      <th>44</th>\n",
       "      <td>Congo</td>\n",
       "      <td>27.39</td>\n",
       "    </tr>\n",
       "    <tr>\n",
       "      <th>198</th>\n",
       "      <td>Venezuela (République bolivarienne du)</td>\n",
       "      <td>27.21</td>\n",
       "    </tr>\n",
       "    <tr>\n",
       "      <th>171</th>\n",
       "      <td>Sierra Leone</td>\n",
       "      <td>26.71</td>\n",
       "    </tr>\n",
       "    <tr>\n",
       "      <th>158</th>\n",
       "      <td>République-Unie de Tanzanie</td>\n",
       "      <td>24.52</td>\n",
       "    </tr>\n",
       "    <tr>\n",
       "      <th>87</th>\n",
       "      <td>Iraq</td>\n",
       "      <td>23.97</td>\n",
       "    </tr>\n",
       "    <tr>\n",
       "      <th>96</th>\n",
       "      <td>Kenya</td>\n",
       "      <td>23.70</td>\n",
       "    </tr>\n",
       "    <tr>\n",
       "      <th>26</th>\n",
       "      <td>Botswana</td>\n",
       "      <td>22.67</td>\n",
       "    </tr>\n",
       "    <tr>\n",
       "      <th>187</th>\n",
       "      <td>Togo</td>\n",
       "      <td>20.78</td>\n",
       "    </tr>\n",
       "    <tr>\n",
       "      <th>46</th>\n",
       "      <td>Côte d'Ivoire</td>\n",
       "      <td>20.05</td>\n",
       "    </tr>\n",
       "    <tr>\n",
       "      <th>61</th>\n",
       "      <td>Éthiopie</td>\n",
       "      <td>19.83</td>\n",
       "    </tr>\n",
       "  </tbody>\n",
       "</table>\n",
       "</div>"
      ],
      "text/plain": [
       "                                           Zone  Propotionsousnutrition\n",
       "78                                        Haïti                   48.26\n",
       "157  République populaire démocratique de Corée                   47.19\n",
       "108                                  Madagascar                   41.06\n",
       "103                                     Libéria                   38.28\n",
       "100                                     Lesotho                   38.25\n",
       "183                                       Tchad                   37.96\n",
       "161                                      Rwanda                   35.06\n",
       "121                                  Mozambique                   32.81\n",
       "186                                 Timor-Leste                   32.17\n",
       "0                                   Afghanistan                   28.93\n",
       "44                                        Congo                   27.39\n",
       "198      Venezuela (République bolivarienne du)                   27.21\n",
       "171                                Sierra Leone                   26.71\n",
       "158                 République-Unie de Tanzanie                   24.52\n",
       "87                                         Iraq                   23.97\n",
       "96                                        Kenya                   23.70\n",
       "26                                     Botswana                   22.67\n",
       "187                                        Togo                   20.78\n",
       "46                                Côte d'Ivoire                   20.05\n",
       "61                                     Éthiopie                   19.83"
      ]
     },
     "execution_count": 3650,
     "metadata": {},
     "output_type": "execute_result"
    }
   ],
   "source": [
    "dfpaysousnutreestlaplusfort[[\"Zone\",\"Propotionsousnutrition\"]]"
   ]
  },
  {
   "cell_type": "markdown",
   "metadata": {},
   "source": [
    "Je crée une graphique pour mettre en évidence les pays ou la sousnutrition et la plus forte"
   ]
  },
  {
   "cell_type": "code",
   "execution_count": 3651,
   "metadata": {},
   "outputs": [],
   "source": [
    "var_x = dfpaysousnutreestlaplusfort[\"Zone\"]\n",
    "var_y = dfpaysousnutreestlaplusfort[\"Propotionsousnutrition\"]\n",
    "explode = [0.1,0,0,0,0,0,0,0,0,0,0,0,0,0,0,0,0,0,0,0]\n"
   ]
  },
  {
   "cell_type": "markdown",
   "metadata": {},
   "source": [
    "<!-- # plt.plot(var_x, var_y)\n",
    "# plt.barh(var_x,var_y )\n",
    "# plt.ylabel('Zone géographique')\n",
    "# plt.xlabel('Proportion de personne e sous nutrition') -->"
   ]
  },
  {
   "cell_type": "code",
   "execution_count": 3652,
   "metadata": {},
   "outputs": [
    {
     "data": {
      "text/plain": [
       "Text(0.5, 1.0, '10 premier pays ou la sous nutrition est la plus fort')"
      ]
     },
     "execution_count": 3652,
     "metadata": {},
     "output_type": "execute_result"
    },
    {
     "data": {
      "image/png": "[encoded data removed]",
      "text/plain": [
       "<Figure size 640x480 with 1 Axes>"
      ]
     },
     "metadata": {},
     "output_type": "display_data"
    }
   ],
   "source": [
    "plt.pie(var_y, labels=var_x,explode=explode, shadow=True,startangle = 90, autopct = '%1.1f%%', wedgeprops={'edgecolor':'black'})\n",
    "plt.title('10 premier pays ou la sous nutrition est la plus fort')\n",
    "\n"
   ]
  },
  {
   "cell_type": "markdown",
   "metadata": {},
   "source": [
    "J'ajoute les donneé de la variable autres a mon dataframe paysousnutrplufort"
   ]
  },
  {
   "cell_type": "code",
   "execution_count": 3653,
   "metadata": {},
   "outputs": [
    {
     "name": "stderr",
     "output_type": "stream",
     "text": [
      "C:\\Users\\ikram\\AppData\\Local\\Temp\\ipykernel_14028\\4145523276.py:1: FutureWarning: The frame.append method is deprecated and will be removed from pandas in a future version. Use pandas.concat instead.\n",
      "  dfpaysousnutrestlaplusfort = dfpaysousnutreestlaplusfort.append(autres,ignore_index=True)\n"
     ]
    }
   ],
   "source": [
    "dfpaysousnutrestlaplusfort = dfpaysousnutreestlaplusfort.append(autres,ignore_index=True)"
   ]
  },
  {
   "cell_type": "code",
   "execution_count": 3654,
   "metadata": {},
   "outputs": [
    {
     "data": {
      "text/html": [
       "<div>\n",
       "<style scoped>\n",
       "    .dataframe tbody tr th:only-of-type {\n",
       "        vertical-align: middle;\n",
       "    }\n",
       "\n",
       "    .dataframe tbody tr th {\n",
       "        vertical-align: top;\n",
       "    }\n",
       "\n",
       "    .dataframe thead th {\n",
       "        text-align: right;\n",
       "    }\n",
       "</style>\n",
       "<table border=\"1\" class=\"dataframe\">\n",
       "  <thead>\n",
       "    <tr style=\"text-align: right;\">\n",
       "      <th></th>\n",
       "      <th>Zone</th>\n",
       "      <th>Annee</th>\n",
       "      <th>Sousnutr</th>\n",
       "      <th>Population</th>\n",
       "      <th>Propotionsousnutrition</th>\n",
       "    </tr>\n",
       "  </thead>\n",
       "  <tbody>\n",
       "    <tr>\n",
       "      <th>0</th>\n",
       "      <td>Haïti</td>\n",
       "      <td>2017</td>\n",
       "      <td>5300000.0</td>\n",
       "      <td>10982366.0</td>\n",
       "      <td>48.26</td>\n",
       "    </tr>\n",
       "    <tr>\n",
       "      <th>1</th>\n",
       "      <td>République populaire démocratique de Corée</td>\n",
       "      <td>2017</td>\n",
       "      <td>12000000.0</td>\n",
       "      <td>25429825.0</td>\n",
       "      <td>47.19</td>\n",
       "    </tr>\n",
       "    <tr>\n",
       "      <th>2</th>\n",
       "      <td>Madagascar</td>\n",
       "      <td>2017</td>\n",
       "      <td>10500000.0</td>\n",
       "      <td>25570512.0</td>\n",
       "      <td>41.06</td>\n",
       "    </tr>\n",
       "    <tr>\n",
       "      <th>3</th>\n",
       "      <td>Libéria</td>\n",
       "      <td>2017</td>\n",
       "      <td>1800000.0</td>\n",
       "      <td>4702226.0</td>\n",
       "      <td>38.28</td>\n",
       "    </tr>\n",
       "    <tr>\n",
       "      <th>4</th>\n",
       "      <td>Lesotho</td>\n",
       "      <td>2017</td>\n",
       "      <td>800000.0</td>\n",
       "      <td>2091534.0</td>\n",
       "      <td>38.25</td>\n",
       "    </tr>\n",
       "    <tr>\n",
       "      <th>5</th>\n",
       "      <td>Tchad</td>\n",
       "      <td>2017</td>\n",
       "      <td>5700000.0</td>\n",
       "      <td>15016753.0</td>\n",
       "      <td>37.96</td>\n",
       "    </tr>\n",
       "    <tr>\n",
       "      <th>6</th>\n",
       "      <td>Rwanda</td>\n",
       "      <td>2017</td>\n",
       "      <td>4200000.0</td>\n",
       "      <td>11980961.0</td>\n",
       "      <td>35.06</td>\n",
       "    </tr>\n",
       "    <tr>\n",
       "      <th>7</th>\n",
       "      <td>Mozambique</td>\n",
       "      <td>2017</td>\n",
       "      <td>9400000.0</td>\n",
       "      <td>28649018.0</td>\n",
       "      <td>32.81</td>\n",
       "    </tr>\n",
       "    <tr>\n",
       "      <th>8</th>\n",
       "      <td>Timor-Leste</td>\n",
       "      <td>2017</td>\n",
       "      <td>400000.0</td>\n",
       "      <td>1243258.0</td>\n",
       "      <td>32.17</td>\n",
       "    </tr>\n",
       "    <tr>\n",
       "      <th>9</th>\n",
       "      <td>Afghanistan</td>\n",
       "      <td>2017</td>\n",
       "      <td>10500000.0</td>\n",
       "      <td>36296113.0</td>\n",
       "      <td>28.93</td>\n",
       "    </tr>\n",
       "    <tr>\n",
       "      <th>10</th>\n",
       "      <td>Congo</td>\n",
       "      <td>2017</td>\n",
       "      <td>1400000.0</td>\n",
       "      <td>5110695.0</td>\n",
       "      <td>27.39</td>\n",
       "    </tr>\n",
       "    <tr>\n",
       "      <th>11</th>\n",
       "      <td>Venezuela (République bolivarienne du)</td>\n",
       "      <td>2017</td>\n",
       "      <td>8000000.0</td>\n",
       "      <td>29402484.0</td>\n",
       "      <td>27.21</td>\n",
       "    </tr>\n",
       "    <tr>\n",
       "      <th>12</th>\n",
       "      <td>Sierra Leone</td>\n",
       "      <td>2017</td>\n",
       "      <td>2000000.0</td>\n",
       "      <td>7488423.0</td>\n",
       "      <td>26.71</td>\n",
       "    </tr>\n",
       "    <tr>\n",
       "      <th>13</th>\n",
       "      <td>République-Unie de Tanzanie</td>\n",
       "      <td>2017</td>\n",
       "      <td>13400000.0</td>\n",
       "      <td>54660339.0</td>\n",
       "      <td>24.52</td>\n",
       "    </tr>\n",
       "    <tr>\n",
       "      <th>14</th>\n",
       "      <td>Iraq</td>\n",
       "      <td>2017</td>\n",
       "      <td>9000000.0</td>\n",
       "      <td>37552781.0</td>\n",
       "      <td>23.97</td>\n",
       "    </tr>\n",
       "    <tr>\n",
       "      <th>15</th>\n",
       "      <td>Kenya</td>\n",
       "      <td>2017</td>\n",
       "      <td>11900000.0</td>\n",
       "      <td>50221142.0</td>\n",
       "      <td>23.70</td>\n",
       "    </tr>\n",
       "    <tr>\n",
       "      <th>16</th>\n",
       "      <td>Botswana</td>\n",
       "      <td>2017</td>\n",
       "      <td>500000.0</td>\n",
       "      <td>2205080.0</td>\n",
       "      <td>22.67</td>\n",
       "    </tr>\n",
       "    <tr>\n",
       "      <th>17</th>\n",
       "      <td>Togo</td>\n",
       "      <td>2017</td>\n",
       "      <td>1600000.0</td>\n",
       "      <td>7698474.0</td>\n",
       "      <td>20.78</td>\n",
       "    </tr>\n",
       "    <tr>\n",
       "      <th>18</th>\n",
       "      <td>Côte d'Ivoire</td>\n",
       "      <td>2017</td>\n",
       "      <td>4900000.0</td>\n",
       "      <td>24437470.0</td>\n",
       "      <td>20.05</td>\n",
       "    </tr>\n",
       "    <tr>\n",
       "      <th>19</th>\n",
       "      <td>Éthiopie</td>\n",
       "      <td>2017</td>\n",
       "      <td>21100000.0</td>\n",
       "      <td>106399924.0</td>\n",
       "      <td>19.83</td>\n",
       "    </tr>\n",
       "    <tr>\n",
       "      <th>20</th>\n",
       "      <td>Autre</td>\n",
       "      <td>NaN</td>\n",
       "      <td>NaN</td>\n",
       "      <td>NaN</td>\n",
       "      <td>569.85</td>\n",
       "    </tr>\n",
       "  </tbody>\n",
       "</table>\n",
       "</div>"
      ],
      "text/plain": [
       "                                          Zone Annee    Sousnutr   Population  \\\n",
       "0                                        Haïti  2017   5300000.0   10982366.0   \n",
       "1   République populaire démocratique de Corée  2017  12000000.0   25429825.0   \n",
       "2                                   Madagascar  2017  10500000.0   25570512.0   \n",
       "3                                      Libéria  2017   1800000.0    4702226.0   \n",
       "4                                      Lesotho  2017    800000.0    2091534.0   \n",
       "5                                        Tchad  2017   5700000.0   15016753.0   \n",
       "6                                       Rwanda  2017   4200000.0   11980961.0   \n",
       "7                                   Mozambique  2017   9400000.0   28649018.0   \n",
       "8                                  Timor-Leste  2017    400000.0    1243258.0   \n",
       "9                                  Afghanistan  2017  10500000.0   36296113.0   \n",
       "10                                       Congo  2017   1400000.0    5110695.0   \n",
       "11      Venezuela (République bolivarienne du)  2017   8000000.0   29402484.0   \n",
       "12                                Sierra Leone  2017   2000000.0    7488423.0   \n",
       "13                 République-Unie de Tanzanie  2017  13400000.0   54660339.0   \n",
       "14                                        Iraq  2017   9000000.0   37552781.0   \n",
       "15                                       Kenya  2017  11900000.0   50221142.0   \n",
       "16                                    Botswana  2017    500000.0    2205080.0   \n",
       "17                                        Togo  2017   1600000.0    7698474.0   \n",
       "18                               Côte d'Ivoire  2017   4900000.0   24437470.0   \n",
       "19                                    Éthiopie  2017  21100000.0  106399924.0   \n",
       "20                                       Autre   NaN         NaN          NaN   \n",
       "\n",
       "    Propotionsousnutrition  \n",
       "0                    48.26  \n",
       "1                    47.19  \n",
       "2                    41.06  \n",
       "3                    38.28  \n",
       "4                    38.25  \n",
       "5                    37.96  \n",
       "6                    35.06  \n",
       "7                    32.81  \n",
       "8                    32.17  \n",
       "9                    28.93  \n",
       "10                   27.39  \n",
       "11                   27.21  \n",
       "12                   26.71  \n",
       "13                   24.52  \n",
       "14                   23.97  \n",
       "15                   23.70  \n",
       "16                   22.67  \n",
       "17                   20.78  \n",
       "18                   20.05  \n",
       "19                   19.83  \n",
       "20                  569.85  "
      ]
     },
     "execution_count": 3654,
     "metadata": {},
     "output_type": "execute_result"
    }
   ],
   "source": [
    "dfpaysousnutrestlaplusfort"
   ]
  },
  {
   "cell_type": "code",
   "execution_count": 3655,
   "metadata": {},
   "outputs": [],
   "source": [
    "zone = dfpaysousnutrestlaplusfort[\"Zone\"]\n",
    "proportion = dfpaysousnutrestlaplusfort[\"Propotionsousnutrition\"]\n",
    "explode = [0,0,0,0,0,0,0,0,0,0,0,0,0,0,0,0,0,0,0,0,0.1]"
   ]
  },
  {
   "cell_type": "markdown",
   "metadata": {},
   "source": [
    "<!-- # plt.barh(zone,proportion)\n",
    "# plt.ylabel('Zone géographique')\n",
    "# plt.xlabel('Proportion de personne e sous nutrition') -->"
   ]
  },
  {
   "cell_type": "code",
   "execution_count": 3656,
   "metadata": {},
   "outputs": [
    {
     "data": {
      "text/plain": [
       "Text(0.5, 1.0, 'Proportion de la sous nutrition dans le monde ')"
      ]
     },
     "execution_count": 3656,
     "metadata": {},
     "output_type": "execute_result"
    },
    {
     "data": {
      "image/png": "[encoded data removed]",
      "text/plain": [
       "<Figure size 640x480 with 1 Axes>"
      ]
     },
     "metadata": {},
     "output_type": "display_data"
    }
   ],
   "source": [
    "plt.pie(proportion, labels= zone,explode=explode,startangle = 90, autopct = '%1.1f%%' ,shadow=True, wedgeprops={'edgecolor':'black'})\n",
    "plt.title('Proportion de la sous nutrition dans le monde ')"
   ]
  },
  {
   "cell_type": "markdown",
   "metadata": {},
   "source": [
    "# VI Pays ayant le plus bénéficié d’aide depuis 2013"
   ]
  },
  {
   "cell_type": "markdown",
   "metadata": {},
   "source": [
    "Je veux récupérer les pays ayant le plus bénéficié d'aide depuis 2013  de ce fais je n'ai besoin que de deux colonne pour la variable dfaidealim Zone est QttAideAlimentaire "
   ]
  },
  {
   "cell_type": "markdown",
   "metadata": {},
   "source": [
    "J'enregitre mes donner dans une nouvelle variable pour ne récupéré que les colonne qui m'interesse "
   ]
  },
  {
   "cell_type": "code",
   "execution_count": 3657,
   "metadata": {},
   "outputs": [],
   "source": [
    "dfaidealimentaire = dfaidealim"
   ]
  },
  {
   "cell_type": "code",
   "execution_count": 3658,
   "metadata": {},
   "outputs": [
    {
     "name": "stderr",
     "output_type": "stream",
     "text": [
      "C:\\Users\\ikram\\AppData\\Local\\Temp\\ipykernel_14028\\2869633822.py:1: FutureWarning: The default value of numeric_only in DataFrameGroupBy.sum is deprecated. In a future version, numeric_only will default to False. Either specify numeric_only or select only columns which should be valid for the function.\n",
      "  dfaidealimentaire = dfaidealimentaire.groupby([\"Zone\"]).sum()\n"
     ]
    }
   ],
   "source": [
    "dfaidealimentaire = dfaidealimentaire.groupby([\"Zone\"]).sum()"
   ]
  },
  {
   "cell_type": "markdown",
   "metadata": {},
   "source": [
    "Je récupère les 20 premiers pays ayant recus le plus d'aide depuis 2013"
   ]
  },
  {
   "cell_type": "code",
   "execution_count": 3659,
   "metadata": {},
   "outputs": [],
   "source": [
    "dfpaysayantleplusrecudaide = dfaidealimentaire.sort_values(by=[\"QttAideAlimentaire\"], ascending=False).head(20)"
   ]
  },
  {
   "cell_type": "code",
   "execution_count": 3660,
   "metadata": {},
   "outputs": [
    {
     "data": {
      "text/html": [
       "<div>\n",
       "<style scoped>\n",
       "    .dataframe tbody tr th:only-of-type {\n",
       "        vertical-align: middle;\n",
       "    }\n",
       "\n",
       "    .dataframe tbody tr th {\n",
       "        vertical-align: top;\n",
       "    }\n",
       "\n",
       "    .dataframe thead th {\n",
       "        text-align: right;\n",
       "    }\n",
       "</style>\n",
       "<table border=\"1\" class=\"dataframe\">\n",
       "  <thead>\n",
       "    <tr style=\"text-align: right;\">\n",
       "      <th></th>\n",
       "      <th>QttAideAlimentaire</th>\n",
       "    </tr>\n",
       "    <tr>\n",
       "      <th>Zone</th>\n",
       "      <th></th>\n",
       "    </tr>\n",
       "  </thead>\n",
       "  <tbody>\n",
       "    <tr>\n",
       "      <th>République arabe syrienne</th>\n",
       "      <td>1858943</td>\n",
       "    </tr>\n",
       "    <tr>\n",
       "      <th>Éthiopie</th>\n",
       "      <td>1381294</td>\n",
       "    </tr>\n",
       "    <tr>\n",
       "      <th>Yémen</th>\n",
       "      <td>1206484</td>\n",
       "    </tr>\n",
       "    <tr>\n",
       "      <th>Soudan du Sud</th>\n",
       "      <td>695248</td>\n",
       "    </tr>\n",
       "    <tr>\n",
       "      <th>Soudan</th>\n",
       "      <td>669784</td>\n",
       "    </tr>\n",
       "    <tr>\n",
       "      <th>Kenya</th>\n",
       "      <td>552836</td>\n",
       "    </tr>\n",
       "    <tr>\n",
       "      <th>Bangladesh</th>\n",
       "      <td>348188</td>\n",
       "    </tr>\n",
       "    <tr>\n",
       "      <th>Somalie</th>\n",
       "      <td>292678</td>\n",
       "    </tr>\n",
       "    <tr>\n",
       "      <th>République démocratique du Congo</th>\n",
       "      <td>288502</td>\n",
       "    </tr>\n",
       "    <tr>\n",
       "      <th>Niger</th>\n",
       "      <td>276344</td>\n",
       "    </tr>\n",
       "    <tr>\n",
       "      <th>Tchad</th>\n",
       "      <td>267966</td>\n",
       "    </tr>\n",
       "    <tr>\n",
       "      <th>Pakistan</th>\n",
       "      <td>231072</td>\n",
       "    </tr>\n",
       "    <tr>\n",
       "      <th>République populaire démocratique de Corée</th>\n",
       "      <td>187412</td>\n",
       "    </tr>\n",
       "    <tr>\n",
       "      <th>Afghanistan</th>\n",
       "      <td>185452</td>\n",
       "    </tr>\n",
       "    <tr>\n",
       "      <th>République-Unie de Tanzanie</th>\n",
       "      <td>172022</td>\n",
       "    </tr>\n",
       "    <tr>\n",
       "      <th>Philippines</th>\n",
       "      <td>171722</td>\n",
       "    </tr>\n",
       "    <tr>\n",
       "      <th>Palestine</th>\n",
       "      <td>169684</td>\n",
       "    </tr>\n",
       "    <tr>\n",
       "      <th>Mali</th>\n",
       "      <td>149586</td>\n",
       "    </tr>\n",
       "    <tr>\n",
       "      <th>Haïti</th>\n",
       "      <td>116450</td>\n",
       "    </tr>\n",
       "    <tr>\n",
       "      <th>Nicaragua</th>\n",
       "      <td>115332</td>\n",
       "    </tr>\n",
       "  </tbody>\n",
       "</table>\n",
       "</div>"
      ],
      "text/plain": [
       "                                            QttAideAlimentaire\n",
       "Zone                                                          \n",
       "République arabe syrienne                              1858943\n",
       "Éthiopie                                               1381294\n",
       "Yémen                                                  1206484\n",
       "Soudan du Sud                                           695248\n",
       "Soudan                                                  669784\n",
       "Kenya                                                   552836\n",
       "Bangladesh                                              348188\n",
       "Somalie                                                 292678\n",
       "République démocratique du Congo                        288502\n",
       "Niger                                                   276344\n",
       "Tchad                                                   267966\n",
       "Pakistan                                                231072\n",
       "République populaire démocratique de Corée              187412\n",
       "Afghanistan                                             185452\n",
       "République-Unie de Tanzanie                             172022\n",
       "Philippines                                             171722\n",
       "Palestine                                               169684\n",
       "Mali                                                    149586\n",
       "Haïti                                                   116450\n",
       "Nicaragua                                               115332"
      ]
     },
     "execution_count": 3660,
     "metadata": {},
     "output_type": "execute_result"
    }
   ],
   "source": [
    "dfpaysayantleplusrecudaide[[\"QttAideAlimentaire\"]]"
   ]
  },
  {
   "cell_type": "markdown",
   "metadata": {},
   "source": [
    "# VII Pays ayant le plus/moins de disponibilité/habitant"
   ]
  },
  {
   "cell_type": "markdown",
   "metadata": {},
   "source": [
    "//"
   ]
  },
  {
   "cell_type": "markdown",
   "metadata": {},
   "source": [
    "## Les 20 premier pays avec le plus de Disponibiliter par habitant "
   ]
  },
  {
   "cell_type": "markdown",
   "metadata": {},
   "source": [
    "J'enregistre les donner du fichier dispo_alimentaire dans une nouvelle variable "
   ]
  },
  {
   "cell_type": "code",
   "execution_count": 3661,
   "metadata": {},
   "outputs": [],
   "source": [
    "dfdispoparhabplusforte= dfdispoal"
   ]
  },
  {
   "cell_type": "markdown",
   "metadata": {},
   "source": [
    "Je fais un groupe by sur Zone"
   ]
  },
  {
   "cell_type": "code",
   "execution_count": 3662,
   "metadata": {},
   "outputs": [
    {
     "name": "stderr",
     "output_type": "stream",
     "text": [
      "C:\\Users\\ikram\\AppData\\Local\\Temp\\ipykernel_14028\\2066997763.py:1: FutureWarning: The default value of numeric_only in DataFrameGroupBy.sum is deprecated. In a future version, numeric_only will default to False. Either specify numeric_only or select only columns which should be valid for the function.\n",
      "  dfdispoparhabplusforte  = dfdispoparhabplusforte.groupby([\"Zone\"]).sum()\n"
     ]
    }
   ],
   "source": [
    "dfdispoparhabplusforte  = dfdispoparhabplusforte.groupby([\"Zone\"]).sum()"
   ]
  },
  {
   "cell_type": "markdown",
   "metadata": {},
   "source": [
    "Je trie mon tableau par ordre decroissant"
   ]
  },
  {
   "cell_type": "code",
   "execution_count": 3663,
   "metadata": {},
   "outputs": [],
   "source": [
    "dfdispoparhabplusforte = dfdispoparhabplusforte.sort_values(by=['DispoAl_encalparperparjour'], ascending= False)"
   ]
  },
  {
   "cell_type": "code",
   "execution_count": 3664,
   "metadata": {},
   "outputs": [
    {
     "data": {
      "text/html": [
       "<div>\n",
       "<style scoped>\n",
       "    .dataframe tbody tr th:only-of-type {\n",
       "        vertical-align: middle;\n",
       "    }\n",
       "\n",
       "    .dataframe tbody tr th {\n",
       "        vertical-align: top;\n",
       "    }\n",
       "\n",
       "    .dataframe thead th {\n",
       "        text-align: right;\n",
       "    }\n",
       "</style>\n",
       "<table border=\"1\" class=\"dataframe\">\n",
       "  <thead>\n",
       "    <tr style=\"text-align: right;\">\n",
       "      <th></th>\n",
       "      <th>DispoAl_encalparperparjour</th>\n",
       "    </tr>\n",
       "    <tr>\n",
       "      <th>Zone</th>\n",
       "      <th></th>\n",
       "    </tr>\n",
       "  </thead>\n",
       "  <tbody>\n",
       "    <tr>\n",
       "      <th>Autriche</th>\n",
       "      <td>3770.0</td>\n",
       "    </tr>\n",
       "    <tr>\n",
       "      <th>Belgique</th>\n",
       "      <td>3737.0</td>\n",
       "    </tr>\n",
       "    <tr>\n",
       "      <th>Turquie</th>\n",
       "      <td>3708.0</td>\n",
       "    </tr>\n",
       "    <tr>\n",
       "      <th>États-Unis d'Amérique</th>\n",
       "      <td>3682.0</td>\n",
       "    </tr>\n",
       "    <tr>\n",
       "      <th>Israël</th>\n",
       "      <td>3610.0</td>\n",
       "    </tr>\n",
       "    <tr>\n",
       "      <th>Irlande</th>\n",
       "      <td>3602.0</td>\n",
       "    </tr>\n",
       "    <tr>\n",
       "      <th>Italie</th>\n",
       "      <td>3578.0</td>\n",
       "    </tr>\n",
       "    <tr>\n",
       "      <th>Luxembourg</th>\n",
       "      <td>3540.0</td>\n",
       "    </tr>\n",
       "    <tr>\n",
       "      <th>Égypte</th>\n",
       "      <td>3518.0</td>\n",
       "    </tr>\n",
       "    <tr>\n",
       "      <th>Allemagne</th>\n",
       "      <td>3503.0</td>\n",
       "    </tr>\n",
       "  </tbody>\n",
       "</table>\n",
       "</div>"
      ],
      "text/plain": [
       "                       DispoAl_encalparperparjour\n",
       "Zone                                             \n",
       "Autriche                                   3770.0\n",
       "Belgique                                   3737.0\n",
       "Turquie                                    3708.0\n",
       "États-Unis d'Amérique                      3682.0\n",
       "Israël                                     3610.0\n",
       "Irlande                                    3602.0\n",
       "Italie                                     3578.0\n",
       "Luxembourg                                 3540.0\n",
       "Égypte                                     3518.0\n",
       "Allemagne                                  3503.0"
      ]
     },
     "execution_count": 3664,
     "metadata": {},
     "output_type": "execute_result"
    }
   ],
   "source": [
    "dfdispoparhabplusforte[[ \"DispoAl_encalparperparjour\"]].head(10)"
   ]
  },
  {
   "cell_type": "markdown",
   "metadata": {},
   "source": [
    "## Les 10 premier pays avec le moins de disponibiliter par habitant "
   ]
  },
  {
   "cell_type": "markdown",
   "metadata": {},
   "source": [
    "Je trie mon tableau par ordre croissant "
   ]
  },
  {
   "cell_type": "code",
   "execution_count": 3665,
   "metadata": {},
   "outputs": [],
   "source": [
    "dfdispoparhabplusfaible = dfdispoparhabplusforte.sort_values(by=['DispoAl_encalparperparjour'], ascending= True)"
   ]
  },
  {
   "cell_type": "code",
   "execution_count": 3666,
   "metadata": {},
   "outputs": [
    {
     "data": {
      "text/html": [
       "<div>\n",
       "<style scoped>\n",
       "    .dataframe tbody tr th:only-of-type {\n",
       "        vertical-align: middle;\n",
       "    }\n",
       "\n",
       "    .dataframe tbody tr th {\n",
       "        vertical-align: top;\n",
       "    }\n",
       "\n",
       "    .dataframe thead th {\n",
       "        text-align: right;\n",
       "    }\n",
       "</style>\n",
       "<table border=\"1\" class=\"dataframe\">\n",
       "  <thead>\n",
       "    <tr style=\"text-align: right;\">\n",
       "      <th></th>\n",
       "      <th>DispoAl_encalparperparjour</th>\n",
       "    </tr>\n",
       "    <tr>\n",
       "      <th>Zone</th>\n",
       "      <th></th>\n",
       "    </tr>\n",
       "  </thead>\n",
       "  <tbody>\n",
       "    <tr>\n",
       "      <th>République centrafricaine</th>\n",
       "      <td>1879.0</td>\n",
       "    </tr>\n",
       "    <tr>\n",
       "      <th>Zambie</th>\n",
       "      <td>1924.0</td>\n",
       "    </tr>\n",
       "    <tr>\n",
       "      <th>Madagascar</th>\n",
       "      <td>2056.0</td>\n",
       "    </tr>\n",
       "    <tr>\n",
       "      <th>Afghanistan</th>\n",
       "      <td>2087.0</td>\n",
       "    </tr>\n",
       "    <tr>\n",
       "      <th>Haïti</th>\n",
       "      <td>2089.0</td>\n",
       "    </tr>\n",
       "    <tr>\n",
       "      <th>République populaire démocratique de Corée</th>\n",
       "      <td>2093.0</td>\n",
       "    </tr>\n",
       "    <tr>\n",
       "      <th>Tchad</th>\n",
       "      <td>2109.0</td>\n",
       "    </tr>\n",
       "    <tr>\n",
       "      <th>Zimbabwe</th>\n",
       "      <td>2113.0</td>\n",
       "    </tr>\n",
       "    <tr>\n",
       "      <th>Ouganda</th>\n",
       "      <td>2126.0</td>\n",
       "    </tr>\n",
       "    <tr>\n",
       "      <th>Éthiopie</th>\n",
       "      <td>2129.0</td>\n",
       "    </tr>\n",
       "  </tbody>\n",
       "</table>\n",
       "</div>"
      ],
      "text/plain": [
       "                                            DispoAl_encalparperparjour\n",
       "Zone                                                                  \n",
       "République centrafricaine                                       1879.0\n",
       "Zambie                                                          1924.0\n",
       "Madagascar                                                      2056.0\n",
       "Afghanistan                                                     2087.0\n",
       "Haïti                                                           2089.0\n",
       "République populaire démocratique de Corée                      2093.0\n",
       "Tchad                                                           2109.0\n",
       "Zimbabwe                                                        2113.0\n",
       "Ouganda                                                         2126.0\n",
       "Éthiopie                                                        2129.0"
      ]
     },
     "execution_count": 3666,
     "metadata": {},
     "output_type": "execute_result"
    }
   ],
   "source": [
    "dfdispoparhabplusfaible[[ \"DispoAl_encalparperparjour\"]].head(10)"
   ]
  }
 ],
 "metadata": {
  "kernelspec": {
   "display_name": "Python 3.10.7 64-bit",
   "language": "python",
   "name": "python3"
  },
  "language_info": {
   "codemirror_mode": {
    "name": "ipython",
    "version": 3
   },
   "file_extension": ".py",
   "mimetype": "text/x-python",
   "name": "python",
   "nbconvert_exporter": "python",
   "pygments_lexer": "ipython3",
   "version": "3.10.7"
  },
  "orig_nbformat": 4,
  "vscode": {
   "interpreter": {
    "hash": "0b072a736dc49dd352519221f10997e2e41fb14634a9bb11dc735f3559d54570"
   }
  }
 },
 "nbformat": 4,
 "nbformat_minor": 2
}
